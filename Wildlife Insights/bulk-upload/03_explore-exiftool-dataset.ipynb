{
  "nbformat": 4,
  "nbformat_minor": 0,
  "metadata": {
    "colab": {
      "name": "03_explore-exiftool-dataset (github).ipynb",
      "provenance": [],
      "collapsed_sections": [],
      "authorship_tag": "ABX9TyPXJR95kvTvHrFM+fpvN/06",
      "include_colab_link": true
    },
    "kernelspec": {
      "name": "python3",
      "display_name": "Python 3"
    },
    "language_info": {
      "name": "python"
    }
  },
  "cells": [
    {
      "cell_type": "markdown",
      "metadata": {
        "id": "view-in-github",
        "colab_type": "text"
      },
      "source": [
        "<a href=\"https://colab.research.google.com/github/FFI-Vietnam/camtrap-tools/blob/main/Wildlife%20Insights/bulk-upload/03_explore-exiftool-dataset.ipynb\" target=\"_parent\"><img src=\"https://colab.research.google.com/assets/colab-badge.svg\" alt=\"Open In Colab\"/></a>"
      ]
    },
    {
      "cell_type": "code",
      "metadata": {
        "id": "DUuERjIZIDni"
      },
      "source": [
        "\"\"\"\n",
        "This script is used for exploring the exiftool metadata spreadsheet \n",
        "After runnning this script, these new files are added to 'data exploration' folder\n",
        "\n",
        "data cleaning\n",
        "    |__ 3.1_explore_summary.csv\n",
        "    \n",
        "\"\"\""
      ],
      "execution_count": null,
      "outputs": []
    },
    {
      "cell_type": "code",
      "metadata": {
        "id": "4LSBvbxmIW2k"
      },
      "source": [
        "import pandas as pd\n",
        "import numpy as np\n",
        "import os"
      ],
      "execution_count": 1,
      "outputs": []
    },
    {
      "cell_type": "code",
      "metadata": {
        "colab": {
          "base_uri": "https://localhost:8080/"
        },
        "id": "BEJL4fDlIYM3",
        "outputId": "ca43d7f4-c91f-4e72-9aae-e16f22531358"
      },
      "source": [
        "# mount with Google Drive to read and save file\n",
        "from google.colab import drive\n",
        "drive.mount('/content/drive')"
      ],
      "execution_count": 2,
      "outputs": [
        {
          "output_type": "stream",
          "name": "stdout",
          "text": [
            "Mounted at /content/drive\n"
          ]
        }
      ]
    },
    {
      "cell_type": "code",
      "metadata": {
        "id": "DM1uOf_jIZgk"
      },
      "source": [
        "# specifies Colab directories and file names\n",
        "root = '/content/drive/'\n",
        "\n",
        "dataset_folder = 'My Drive/FFI/Wildlife Insights Bulk Upload Test/bulk-upload_template-autofill/dataset'\n",
        "contain_folder = 'My Drive/FFI/Wildlife Insights Bulk Upload Test/bulk-upload_template-autofill/data cleaning'\n",
        "\n",
        "explore_metadata_summary_file_name = \"3.1_explore_summary.csv\"\n"
      ],
      "execution_count": 3,
      "outputs": []
    },
    {
      "cell_type": "code",
      "metadata": {
        "id": "mYcF8GmUIbjx"
      },
      "source": [
        "# useful functions\n",
        "def read_csv_Google_drive(root, contain_folder, file_name):\n",
        "  file_path = os.path.join(root, contain_folder, file_name)\n",
        "  return pd.read_csv(file_path)\n",
        "\n",
        "def save_csv_Google_drive(df, root, contain_folder, file_name):\n",
        "  \"\"\"\n",
        "  function to save a csv file to Google Drive\n",
        "  param examples:\n",
        "    root = '/content/drive/'\n",
        "    contain_folder = 'My Drive/FFI/dataset'\n",
        "    file_name = 'image_metadata(2020-06-26)_full.csv'\n",
        "  \"\"\"\n",
        "  # save file to Colab runtime storage (will be deleted when this notebook is closed)\n",
        "  df.to_csv('dataframe.csv', index=False)\n",
        "\n",
        "  # save file back to Google Drive for permanent storage\n",
        "  folder_path = os.path.join(root, contain_folder)\n",
        "  file_path = os.path.join(root, contain_folder, file_name)\n",
        "  try:\n",
        "    os.makedirs(folder_path)\n",
        "  except:\n",
        "    pass\n",
        "\n",
        "  with open('dataframe.csv', 'r') as f:\n",
        "    df_file = f.read()\n",
        "\n",
        "  with open(file_path, 'w') as f:\n",
        "    f.write(df_file)\n",
        "\n",
        "  print(f'File is saved to {file_name} in Google Drive at {file_path}')"
      ],
      "execution_count": 4,
      "outputs": []
    },
    {
      "cell_type": "code",
      "metadata": {
        "colab": {
          "base_uri": "https://localhost:8080/",
          "height": 436
        },
        "id": "5M7ZvY3OIxC_",
        "outputId": "a735a559-d0f7-4aca-ed9b-6604490d69a0"
      },
      "source": [
        "# 01) summarize # of species, # of images for each species, and # of images uploaded\n",
        "# to Wildlife Insights\n",
        "\n",
        "df = read_csv_Google_drive(root, contain_folder, \"1.4_clean_metadata_remove-no-animal-image.csv\")\n",
        "\n",
        "# summarize # of species total\n",
        "species_count = df['species_common_name'].value_counts()\n",
        "\n",
        "# summarize # of animal images uploaded\n",
        "uploaded_species_counts = df[df['uploaded_to_WI'] == 'x']['species_common_name'].value_counts()\n",
        "\n",
        "# record # of uploaded species\n",
        "df = species_count.to_frame()\n",
        "df.rename(columns={'species_common_name':'total'}, inplace=True)\n",
        "\n",
        "# reset index\n",
        "df['species_common_name'] = df.index\n",
        "df.reset_index(drop=True, inplace=True)\n",
        "\n",
        "# reposition total column and species_common_name column\n",
        "df = df[['species_common_name', 'total']]\n",
        "\n",
        "# count the # of uploaded images\n",
        "uploaded = []\n",
        "for i in range(len(df)):\n",
        "  name = df.index[i]\n",
        "  try:\n",
        "    uploaded.append(uploaded_species_counts[name])\n",
        "  except:\n",
        "    uploaded.append('0')\n",
        "\n",
        "df['uploaded_to_WI'] = uploaded\n",
        "df['uploaded_to_WI'] = df['uploaded_to_WI'].astype('int32')\n",
        "# percentage of uploaded images\n",
        "df['%'] = round(df['uploaded_to_WI']*100/df['total'], 1)\n",
        "\n",
        "# save file to Google Drive\n",
        "save_csv_Google_drive(df, root, contain_folder, explore_metadata_summary_file_name)\n",
        "df"
      ],
      "execution_count": 10,
      "outputs": [
        {
          "output_type": "stream",
          "name": "stdout",
          "text": [
            "File is saved to 3.1_explore_summary.csv in Google Drive at /content/drive/My Drive/FFI/Wildlife Insights Bulk Upload Test/bulk-upload_template-autofill/data cleaning/3.1_explore_summary.csv\n"
          ]
        },
        {
          "output_type": "execute_result",
          "data": {
            "text/html": [
              "<div>\n",
              "<style scoped>\n",
              "    .dataframe tbody tr th:only-of-type {\n",
              "        vertical-align: middle;\n",
              "    }\n",
              "\n",
              "    .dataframe tbody tr th {\n",
              "        vertical-align: top;\n",
              "    }\n",
              "\n",
              "    .dataframe thead th {\n",
              "        text-align: right;\n",
              "    }\n",
              "</style>\n",
              "<table border=\"1\" class=\"dataframe\">\n",
              "  <thead>\n",
              "    <tr style=\"text-align: right;\">\n",
              "      <th></th>\n",
              "      <th>species_common_name</th>\n",
              "      <th>total</th>\n",
              "      <th>uploaded_to_WI</th>\n",
              "      <th>%</th>\n",
              "    </tr>\n",
              "  </thead>\n",
              "  <tbody>\n",
              "    <tr>\n",
              "      <th>0</th>\n",
              "      <td>Murid</td>\n",
              "      <td>8411</td>\n",
              "      <td>0</td>\n",
              "      <td>0.0</td>\n",
              "    </tr>\n",
              "    <tr>\n",
              "      <th>1</th>\n",
              "      <td>Human</td>\n",
              "      <td>3266</td>\n",
              "      <td>0</td>\n",
              "      <td>0.0</td>\n",
              "    </tr>\n",
              "    <tr>\n",
              "      <th>2</th>\n",
              "      <td>Ferret-badger</td>\n",
              "      <td>2161</td>\n",
              "      <td>0</td>\n",
              "      <td>0.0</td>\n",
              "    </tr>\n",
              "    <tr>\n",
              "      <th>3</th>\n",
              "      <td>Orange-headed Thrush</td>\n",
              "      <td>1694</td>\n",
              "      <td>0</td>\n",
              "      <td>0.0</td>\n",
              "    </tr>\n",
              "    <tr>\n",
              "      <th>4</th>\n",
              "      <td>Bird</td>\n",
              "      <td>985</td>\n",
              "      <td>0</td>\n",
              "      <td>0.0</td>\n",
              "    </tr>\n",
              "    <tr>\n",
              "      <th>...</th>\n",
              "      <td>...</td>\n",
              "      <td>...</td>\n",
              "      <td>...</td>\n",
              "      <td>...</td>\n",
              "    </tr>\n",
              "    <tr>\n",
              "      <th>136</th>\n",
              "      <td>Grey-shanked Douc Langur</td>\n",
              "      <td>1</td>\n",
              "      <td>0</td>\n",
              "      <td>0.0</td>\n",
              "    </tr>\n",
              "    <tr>\n",
              "      <th>137</th>\n",
              "      <td>Japanese Robin</td>\n",
              "      <td>1</td>\n",
              "      <td>0</td>\n",
              "      <td>0.0</td>\n",
              "    </tr>\n",
              "    <tr>\n",
              "      <th>138</th>\n",
              "      <td>Pale-footed Bush Warbler</td>\n",
              "      <td>1</td>\n",
              "      <td>0</td>\n",
              "      <td>0.0</td>\n",
              "    </tr>\n",
              "    <tr>\n",
              "      <th>139</th>\n",
              "      <td>Indochinese Blue-flycatcher</td>\n",
              "      <td>1</td>\n",
              "      <td>0</td>\n",
              "      <td>0.0</td>\n",
              "    </tr>\n",
              "    <tr>\n",
              "      <th>140</th>\n",
              "      <td>Indian Giant Flying Squirrel</td>\n",
              "      <td>1</td>\n",
              "      <td>0</td>\n",
              "      <td>0.0</td>\n",
              "    </tr>\n",
              "  </tbody>\n",
              "</table>\n",
              "<p>141 rows × 4 columns</p>\n",
              "</div>"
            ],
            "text/plain": [
              "              species_common_name  total  uploaded_to_WI    %\n",
              "0                           Murid   8411               0  0.0\n",
              "1                           Human   3266               0  0.0\n",
              "2                   Ferret-badger   2161               0  0.0\n",
              "3            Orange-headed Thrush   1694               0  0.0\n",
              "4                            Bird    985               0  0.0\n",
              "..                            ...    ...             ...  ...\n",
              "136      Grey-shanked Douc Langur      1               0  0.0\n",
              "137                Japanese Robin      1               0  0.0\n",
              "138      Pale-footed Bush Warbler      1               0  0.0\n",
              "139   Indochinese Blue-flycatcher      1               0  0.0\n",
              "140  Indian Giant Flying Squirrel      1               0  0.0\n",
              "\n",
              "[141 rows x 4 columns]"
            ]
          },
          "metadata": {},
          "execution_count": 10
        }
      ]
    },
    {
      "cell_type": "code",
      "metadata": {
        "id": "BG5wB-FfJPga"
      },
      "source": [
        ""
      ],
      "execution_count": null,
      "outputs": []
    }
  ]
}