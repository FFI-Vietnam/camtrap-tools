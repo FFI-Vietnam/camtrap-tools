{
 "cells": [
  {
   "cell_type": "markdown",
   "metadata": {
    "colab_type": "text",
    "id": "view-in-github"
   },
   "source": [
    "<a href=\"https://colab.research.google.com/github/FFI-Vietnam/camtrap-tools/blob/main/Wildlife%20Insights/bulk-upload/04_collect-WI-taxon-database.ipynb\" target=\"_parent\"><img src=\"https://colab.research.google.com/assets/colab-badge.svg\" alt=\"Open In Colab\"/></a>"
   ]
  },
  {
   "cell_type": "code",
   "execution_count": null,
   "metadata": {
    "id": "g2Dan1V2Qzmw"
   },
   "outputs": [],
   "source": [
    "\"\"\"\n",
    "This script is used for fetching species information from Wildlife Insights species database.\n",
    "It also facilitates adding species whose staff-defined common name does not match with Wildlife Insights common name.\n",
    "After runnning this script, new file is added to 'data cleaning' folder\n",
    "\n",
    "data cleaning\n",
    "    |__ 4.1_collect_WI-taxon-database.csv\n",
    "    \n",
    "\"\"\""
   ]
  },
  {
   "cell_type": "code",
   "execution_count": 1,
   "metadata": {
    "colab": {
     "base_uri": "https://localhost:8080/"
    },
    "id": "FOufEYMHRBpZ",
    "outputId": "30239cde-02fa-402b-97d9-24b714edb88b"
   },
   "outputs": [
    {
     "name": "stdout",
     "output_type": "stream",
     "text": [
      "Mounted at /content/drive\n"
     ]
    }
   ],
   "source": [
    "import pandas as pd\n",
    "import numpy as np\n",
    "import os\n",
    "import json\n",
    "import requests\n",
    "\n",
    "# mount with Google Drive to read and save file\n",
    "from google.colab import drive\n",
    "drive.mount('/content/drive')\n",
    "\n",
    "# specifies Colab directories and file names\n",
    "root = '/content/drive/'\n",
    "\n",
    "dataset_folder = 'My Drive/FFI/Wildlife Insights Bulk Upload Test/bulk-upload_template-autofill/dataset'\n",
    "contain_folder = 'My Drive/FFI/Wildlife Insights Bulk Upload Test/bulk-upload_template-autofill/data cleaning'\n",
    "\n",
    "WIdatabase_file_name = \"4.1_collect_WI-taxon-database.csv\"\n",
    "\n",
    "# useful functions\n",
    "def read_csv_Google_drive(root, contain_folder, file_name):\n",
    "  \"\"\"\n",
    "  function to read a csv file from Google Drive\n",
    "  param examples:\n",
    "    root = '/content/drive/'\n",
    "    contain_folder = 'My Drive/FFI/dataset'\n",
    "    file_name = 'image_metadata(2020-06-26)_full.csv'\n",
    "  \"\"\"\n",
    "  file_path = os.path.join(root, contain_folder, file_name)\n",
    "  return pd.read_csv(file_path)\n",
    "\n",
    "def save_csv_Google_drive(df, root, contain_folder, file_name):\n",
    "  \"\"\"\n",
    "  function to save a csv file to Google Drive\n",
    "  param examples:\n",
    "    root = '/content/drive/'\n",
    "    contain_folder = 'My Drive/FFI/dataset'\n",
    "    file_name = 'image_metadata(2020-06-26)_full.csv'\n",
    "  \"\"\"\n",
    "  # save file to Colab runtime storage (will be deleted when this notebook is closed)\n",
    "  df.to_csv('dataframe.csv', index=False)\n",
    "\n",
    "  # save file back to Google Drive for permanent storage\n",
    "  folder_path = os.path.join(root, contain_folder)\n",
    "  file_path = os.path.join(root, contain_folder, file_name)\n",
    "  try:\n",
    "    os.makedirs(folder_path)\n",
    "  except:\n",
    "    pass\n",
    "\n",
    "  with open('dataframe.csv', 'r') as f:\n",
    "    df_file = f.read()\n",
    "\n",
    "  with open(file_path, 'w') as f:\n",
    "    f.write(df_file)\n",
    "\n",
    "  print(f'File is saved to {file_name} in Google Drive at {file_path}')"
   ]
  },
  {
   "cell_type": "code",
   "execution_count": 2,
   "metadata": {
    "id": "4D01dr7pRDVy"
   },
   "outputs": [],
   "source": [
    "# 4.1) \n",
    "\n",
    "# download WI taxon id database\n",
    "URL = \"https://api.wildlifeinsights.org/api/v1/taxonomy?fields=class,order,family,genus,species,authority,taxonomyType,uniqueIdentifier,commonNameEnglish&page[size]=30000\"\n",
    "response = requests.get(URL)\n",
    "\n",
    "# temporarily save the database to a json file\n",
    "with open('taxonomy.json', 'w') as outfile:\n",
    "    json.dump(response.json()[\"data\"], outfile)\n",
    "\n",
    "taxonomy_df = pd.read_json(r'taxonomy.json')"
   ]
  },
  {
   "cell_type": "code",
   "execution_count": 3,
   "metadata": {
    "colab": {
     "base_uri": "https://localhost:8080/"
    },
    "id": "uO69a0C-VsVN",
    "outputId": "955f6c99-7914-47fb-d991-769a3068e8ee"
   },
   "outputs": [
    {
     "name": "stdout",
     "output_type": "stream",
     "text": [
      "There are 41 unfound species\n"
     ]
    },
    {
     "data": {
      "text/plain": [
       "['Asian Palm Civet',\n",
       " 'Ferret-badger',\n",
       " 'Murid',\n",
       " 'Asian Red-cheeked Squirrel',\n",
       " 'Annamite Dark Muntjac',\n",
       " 'Asian Black Bear',\n",
       " 'Streak-breasted Scimitar-babbler',\n",
       " 'Indochinese Wren-babbler',\n",
       " 'Puff-throated Bulbul',\n",
       " 'Macaque',\n",
       " 'Squirrel',\n",
       " 'Animal',\n",
       " 'Rhesus Macaque',\n",
       " 'Scaly Thrush',\n",
       " 'Oriental Magpie-robin',\n",
       " 'Coral-billed Scimitar-babbler',\n",
       " 'Impressed Tortoise',\n",
       " 'Maxomys',\n",
       " 'Grey-capped Emerald Dove',\n",
       " 'Greater Racquet-tailed Drongo',\n",
       " 'Asian Water Monitor',\n",
       " 'Japanese Robin',\n",
       " 'Particolored Flying Squirrel',\n",
       " 'Leopoldamys',\n",
       " 'Shrew',\n",
       " 'Butterfly',\n",
       " 'Brownish-flanked Bush Warbler',\n",
       " 'Snake',\n",
       " 'Crested Serpent Eagle',\n",
       " 'Moth',\n",
       " 'Flying Squirrel',\n",
       " 'Muntjac',\n",
       " 'Lesser Mouse-deer',\n",
       " 'Flying Insect',\n",
       " 'White-throated Fantail',\n",
       " 'Eastern Striped Squirrel',\n",
       " \"Natalia's Agama\",\n",
       " 'Snowy-browed Flycatcher',\n",
       " \"Tickell's Blue Flycatcher\",\n",
       " 'Hill Blue Flycatcher',\n",
       " 'Banded Kingfisher']"
      ]
     },
     "execution_count": 3,
     "metadata": {},
     "output_type": "execute_result"
    }
   ],
   "source": [
    "# find species who is not in WI taxon db\n",
    "\n",
    "df = read_csv_Google_drive(root, contain_folder, \"1.4_clean_metadata_remove-no-animal-image.csv\")\n",
    "\n",
    "# list of species\n",
    "species_list = df['species_common_name'].unique()\n",
    "\n",
    "unfound = []\n",
    "for s in species_list:\n",
    "  if (s not in taxonomy_df['commonNameEnglish'].to_list()):\n",
    "    unfound.append(s)\n",
    "\n",
    "print(\"There are\",len(unfound),\"unfound species\")\n",
    "unfound"
   ]
  },
  {
   "cell_type": "code",
   "execution_count": 4,
   "metadata": {
    "colab": {
     "base_uri": "https://localhost:8080/"
    },
    "id": "YTsKNz20WmZX",
    "outputId": "2b785648-1b37-4256-d37b-61b325d32495"
   },
   "outputs": [
    {
     "name": "stdout",
     "output_type": "stream",
     "text": [
      "match_unfound_species[\"Asian Palm Civet\"]                   = {\"commonNameEnglish\":\"\"}\n",
      "match_unfound_species[\"Ferret-badger\"]                      = {\"commonNameEnglish\":\"\"}\n",
      "match_unfound_species[\"Murid\"]                              = {\"commonNameEnglish\":\"\"}\n",
      "match_unfound_species[\"Asian Red-cheeked Squirrel\"]         = {\"commonNameEnglish\":\"\"}\n",
      "match_unfound_species[\"Annamite Dark Muntjac\"]              = {\"commonNameEnglish\":\"\"}\n",
      "match_unfound_species[\"Asian Black Bear\"]                   = {\"commonNameEnglish\":\"\"}\n",
      "match_unfound_species[\"Streak-breasted Scimitar-babbler\"]   = {\"commonNameEnglish\":\"\"}\n",
      "match_unfound_species[\"Indochinese Wren-babbler\"]           = {\"commonNameEnglish\":\"\"}\n",
      "match_unfound_species[\"Puff-throated Bulbul\"]               = {\"commonNameEnglish\":\"\"}\n",
      "match_unfound_species[\"Macaque\"]                            = {\"commonNameEnglish\":\"\"}\n",
      "match_unfound_species[\"Squirrel\"]                           = {\"commonNameEnglish\":\"\"}\n",
      "match_unfound_species[\"Animal\"]                             = {\"commonNameEnglish\":\"\"}\n",
      "match_unfound_species[\"Rhesus Macaque\"]                     = {\"commonNameEnglish\":\"\"}\n",
      "match_unfound_species[\"Scaly Thrush\"]                       = {\"commonNameEnglish\":\"\"}\n",
      "match_unfound_species[\"Oriental Magpie-robin\"]              = {\"commonNameEnglish\":\"\"}\n",
      "match_unfound_species[\"Coral-billed Scimitar-babbler\"]      = {\"commonNameEnglish\":\"\"}\n",
      "match_unfound_species[\"Impressed Tortoise\"]                 = {\"commonNameEnglish\":\"\"}\n",
      "match_unfound_species[\"Maxomys\"]                            = {\"commonNameEnglish\":\"\"}\n",
      "match_unfound_species[\"Grey-capped Emerald Dove\"]           = {\"commonNameEnglish\":\"\"}\n",
      "match_unfound_species[\"Greater Racquet-tailed Drongo\"]      = {\"commonNameEnglish\":\"\"}\n",
      "match_unfound_species[\"Asian Water Monitor\"]                = {\"commonNameEnglish\":\"\"}\n",
      "match_unfound_species[\"Japanese Robin\"]                     = {\"commonNameEnglish\":\"\"}\n",
      "match_unfound_species[\"Particolored Flying Squirrel\"]       = {\"commonNameEnglish\":\"\"}\n",
      "match_unfound_species[\"Leopoldamys\"]                        = {\"commonNameEnglish\":\"\"}\n",
      "match_unfound_species[\"Shrew\"]                              = {\"commonNameEnglish\":\"\"}\n",
      "match_unfound_species[\"Butterfly\"]                          = {\"commonNameEnglish\":\"\"}\n",
      "match_unfound_species[\"Brownish-flanked Bush Warbler\"]      = {\"commonNameEnglish\":\"\"}\n",
      "match_unfound_species[\"Snake\"]                              = {\"commonNameEnglish\":\"\"}\n",
      "match_unfound_species[\"Crested Serpent Eagle\"]              = {\"commonNameEnglish\":\"\"}\n",
      "match_unfound_species[\"Moth\"]                               = {\"commonNameEnglish\":\"\"}\n",
      "match_unfound_species[\"Flying Squirrel\"]                    = {\"commonNameEnglish\":\"\"}\n",
      "match_unfound_species[\"Muntjac\"]                            = {\"commonNameEnglish\":\"\"}\n",
      "match_unfound_species[\"Lesser Mouse-deer\"]                  = {\"commonNameEnglish\":\"\"}\n",
      "match_unfound_species[\"Flying Insect\"]                      = {\"commonNameEnglish\":\"\"}\n",
      "match_unfound_species[\"White-throated Fantail\"]             = {\"commonNameEnglish\":\"\"}\n",
      "match_unfound_species[\"Eastern Striped Squirrel\"]           = {\"commonNameEnglish\":\"\"}\n",
      "match_unfound_species[\"Natalia's Agama\"]                    = {\"commonNameEnglish\":\"\"}\n",
      "match_unfound_species[\"Snowy-browed Flycatcher\"]            = {\"commonNameEnglish\":\"\"}\n",
      "match_unfound_species[\"Tickell's Blue Flycatcher\"]          = {\"commonNameEnglish\":\"\"}\n",
      "match_unfound_species[\"Hill Blue Flycatcher\"]               = {\"commonNameEnglish\":\"\"}\n",
      "match_unfound_species[\"Banded Kingfisher\"]                  = {\"commonNameEnglish\":\"\"}\n"
     ]
    }
   ],
   "source": [
    "# (optional) create template match_unfound_species matching for the below cell\n",
    "for i in unfound:\n",
    "  print('{:60}'.format('match_unfound_species[\"'+i+'\"]') + '= {\"commonNameEnglish\":\"\"}')"
   ]
  },
  {
   "cell_type": "markdown",
   "metadata": {
    "id": "6As_tVMf2Pqd"
   },
   "source": [
    "Use these query to find common species name"
   ]
  },
  {
   "cell_type": "code",
   "execution_count": 22,
   "metadata": {
    "colab": {
     "base_uri": "https://localhost:8080/",
     "height": 49
    },
    "id": "vXwNUyyYwLjc",
    "outputId": "a8a0c676-e2f8-4588-ed99-cb3e18b0067d"
   },
   "outputs": [
    {
     "data": {
      "text/html": [
       "<div>\n",
       "<style scoped>\n",
       "    .dataframe tbody tr th:only-of-type {\n",
       "        vertical-align: middle;\n",
       "    }\n",
       "\n",
       "    .dataframe tbody tr th {\n",
       "        vertical-align: top;\n",
       "    }\n",
       "\n",
       "    .dataframe thead th {\n",
       "        text-align: right;\n",
       "    }\n",
       "</style>\n",
       "<table border=\"1\" class=\"dataframe\">\n",
       "  <thead>\n",
       "    <tr style=\"text-align: right;\">\n",
       "      <th></th>\n",
       "      <th>id</th>\n",
       "      <th>class</th>\n",
       "      <th>order</th>\n",
       "      <th>family</th>\n",
       "      <th>genus</th>\n",
       "      <th>species</th>\n",
       "      <th>authority</th>\n",
       "      <th>commonNameEnglish</th>\n",
       "      <th>taxonomyType</th>\n",
       "      <th>uniqueIdentifier</th>\n",
       "    </tr>\n",
       "  </thead>\n",
       "  <tbody>\n",
       "  </tbody>\n",
       "</table>\n",
       "</div>"
      ],
      "text/plain": [
       "Empty DataFrame\n",
       "Columns: [id, class, order, family, genus, species, authority, commonNameEnglish, taxonomyType, uniqueIdentifier]\n",
       "Index: []"
      ]
     },
     "execution_count": 22,
     "metadata": {},
     "output_type": "execute_result"
    }
   ],
   "source": [
    "taxonomy_df[(taxonomy_df['commonNameEnglish'] == 'Small Asian Mongoose') ]"
   ]
  },
  {
   "cell_type": "code",
   "execution_count": 24,
   "metadata": {
    "colab": {
     "base_uri": "https://localhost:8080/",
     "height": 98
    },
    "id": "_IM-03EMdtuG",
    "outputId": "9d6c1d69-a735-40b2-8b33-9469820a0845"
   },
   "outputs": [
    {
     "data": {
      "text/html": [
       "<div>\n",
       "<style scoped>\n",
       "    .dataframe tbody tr th:only-of-type {\n",
       "        vertical-align: middle;\n",
       "    }\n",
       "\n",
       "    .dataframe tbody tr th {\n",
       "        vertical-align: top;\n",
       "    }\n",
       "\n",
       "    .dataframe thead th {\n",
       "        text-align: right;\n",
       "    }\n",
       "</style>\n",
       "<table border=\"1\" class=\"dataframe\">\n",
       "  <thead>\n",
       "    <tr style=\"text-align: right;\">\n",
       "      <th></th>\n",
       "      <th>id</th>\n",
       "      <th>class</th>\n",
       "      <th>order</th>\n",
       "      <th>family</th>\n",
       "      <th>genus</th>\n",
       "      <th>species</th>\n",
       "      <th>authority</th>\n",
       "      <th>commonNameEnglish</th>\n",
       "      <th>taxonomyType</th>\n",
       "      <th>uniqueIdentifier</th>\n",
       "    </tr>\n",
       "  </thead>\n",
       "  <tbody>\n",
       "    <tr>\n",
       "      <th>21704</th>\n",
       "      <td>2014455</td>\n",
       "      <td>Aves</td>\n",
       "      <td>Passeriformes</td>\n",
       "      <td>Pellorneidae</td>\n",
       "      <td>Rimator</td>\n",
       "      <td>danjoui</td>\n",
       "      <td>Robinson &amp; Kloss, 1919</td>\n",
       "      <td>Indochinese Wren-Babbler</td>\n",
       "      <td>biological</td>\n",
       "      <td>7054758f-7909-4467-995e-319c5e62ecbb</td>\n",
       "    </tr>\n",
       "  </tbody>\n",
       "</table>\n",
       "</div>"
      ],
      "text/plain": [
       "            id class  ... taxonomyType                      uniqueIdentifier\n",
       "21704  2014455  Aves  ...   biological  7054758f-7909-4467-995e-319c5e62ecbb\n",
       "\n",
       "[1 rows x 10 columns]"
      ]
     },
     "execution_count": 24,
     "metadata": {},
     "output_type": "execute_result"
    }
   ],
   "source": [
    "taxonomy_df[(taxonomy_df['genus'] == 'Rimator') & (taxonomy_df['species'] == 'danjoui')]"
   ]
  },
  {
   "cell_type": "code",
   "execution_count": 23,
   "metadata": {
    "colab": {
     "base_uri": "https://localhost:8080/",
     "height": 98
    },
    "id": "WljGgKiV1W78",
    "outputId": "66eccab7-41fc-4bcc-a300-fd5c06623fa8"
   },
   "outputs": [
    {
     "data": {
      "text/html": [
       "<div>\n",
       "<style scoped>\n",
       "    .dataframe tbody tr th:only-of-type {\n",
       "        vertical-align: middle;\n",
       "    }\n",
       "\n",
       "    .dataframe tbody tr th {\n",
       "        vertical-align: top;\n",
       "    }\n",
       "\n",
       "    .dataframe thead th {\n",
       "        text-align: right;\n",
       "    }\n",
       "</style>\n",
       "<table border=\"1\" class=\"dataframe\">\n",
       "  <thead>\n",
       "    <tr style=\"text-align: right;\">\n",
       "      <th></th>\n",
       "      <th>id</th>\n",
       "      <th>class</th>\n",
       "      <th>order</th>\n",
       "      <th>family</th>\n",
       "      <th>genus</th>\n",
       "      <th>species</th>\n",
       "      <th>authority</th>\n",
       "      <th>commonNameEnglish</th>\n",
       "      <th>taxonomyType</th>\n",
       "      <th>uniqueIdentifier</th>\n",
       "    </tr>\n",
       "  </thead>\n",
       "  <tbody>\n",
       "    <tr>\n",
       "      <th>21712</th>\n",
       "      <td>2021737</td>\n",
       "      <td>Reptilia</td>\n",
       "      <td>Testudines</td>\n",
       "      <td>Testudinidae</td>\n",
       "      <td>Manouria</td>\n",
       "      <td>impressa</td>\n",
       "      <td>(Günther, 1882)</td>\n",
       "      <td>Impressed tortoise</td>\n",
       "      <td>biological</td>\n",
       "      <td>a71b2322-da09-48d4-b101-3dc9884d3132</td>\n",
       "    </tr>\n",
       "  </tbody>\n",
       "</table>\n",
       "</div>"
      ],
      "text/plain": [
       "            id     class  ... taxonomyType                      uniqueIdentifier\n",
       "21712  2021737  Reptilia  ...   biological  a71b2322-da09-48d4-b101-3dc9884d3132\n",
       "\n",
       "[1 rows x 10 columns]"
      ]
     },
     "execution_count": 23,
     "metadata": {},
     "output_type": "execute_result"
    }
   ],
   "source": [
    "taxonomy_df[taxonomy_df['species'] == 'impressa']"
   ]
  },
  {
   "cell_type": "code",
   "execution_count": null,
   "metadata": {
    "colab": {
     "base_uri": "https://localhost:8080/",
     "height": 49
    },
    "id": "FMlQyf9M1NrX",
    "outputId": "037e33d0-3529-49c9-e0cd-41e2d6382c6c"
   },
   "outputs": [
    {
     "data": {
      "text/html": [
       "<div>\n",
       "<style scoped>\n",
       "    .dataframe tbody tr th:only-of-type {\n",
       "        vertical-align: middle;\n",
       "    }\n",
       "\n",
       "    .dataframe tbody tr th {\n",
       "        vertical-align: top;\n",
       "    }\n",
       "\n",
       "    .dataframe thead th {\n",
       "        text-align: right;\n",
       "    }\n",
       "</style>\n",
       "<table border=\"1\" class=\"dataframe\">\n",
       "  <thead>\n",
       "    <tr style=\"text-align: right;\">\n",
       "      <th></th>\n",
       "      <th>id</th>\n",
       "      <th>class</th>\n",
       "      <th>order</th>\n",
       "      <th>family</th>\n",
       "      <th>genus</th>\n",
       "      <th>species</th>\n",
       "      <th>authority</th>\n",
       "      <th>commonNameEnglish</th>\n",
       "      <th>taxonomyType</th>\n",
       "      <th>uniqueIdentifier</th>\n",
       "    </tr>\n",
       "  </thead>\n",
       "  <tbody>\n",
       "  </tbody>\n",
       "</table>\n",
       "</div>"
      ],
      "text/plain": [
       "Empty DataFrame\n",
       "Columns: [id, class, order, family, genus, species, authority, commonNameEnglish, taxonomyType, uniqueIdentifier]\n",
       "Index: []"
      ]
     },
     "execution_count": 24,
     "metadata": {},
     "output_type": "execute_result"
    }
   ],
   "source": [
    "taxonomy_df[(taxonomy_df['genus'] == 'Pterorhinus')]"
   ]
  },
  {
   "cell_type": "code",
   "execution_count": 13,
   "metadata": {
    "colab": {
     "base_uri": "https://localhost:8080/",
     "height": 49
    },
    "id": "lV0Wjmd_1ab_",
    "outputId": "dd7e2d40-844f-48eb-937b-e2c0f9794bee"
   },
   "outputs": [
    {
     "data": {
      "text/html": [
       "<div>\n",
       "<style scoped>\n",
       "    .dataframe tbody tr th:only-of-type {\n",
       "        vertical-align: middle;\n",
       "    }\n",
       "\n",
       "    .dataframe tbody tr th {\n",
       "        vertical-align: top;\n",
       "    }\n",
       "\n",
       "    .dataframe thead th {\n",
       "        text-align: right;\n",
       "    }\n",
       "</style>\n",
       "<table border=\"1\" class=\"dataframe\">\n",
       "  <thead>\n",
       "    <tr style=\"text-align: right;\">\n",
       "      <th></th>\n",
       "      <th>id</th>\n",
       "      <th>class</th>\n",
       "      <th>order</th>\n",
       "      <th>family</th>\n",
       "      <th>genus</th>\n",
       "      <th>species</th>\n",
       "      <th>authority</th>\n",
       "      <th>commonNameEnglish</th>\n",
       "      <th>taxonomyType</th>\n",
       "      <th>uniqueIdentifier</th>\n",
       "    </tr>\n",
       "  </thead>\n",
       "  <tbody>\n",
       "  </tbody>\n",
       "</table>\n",
       "</div>"
      ],
      "text/plain": [
       "Empty DataFrame\n",
       "Columns: [id, class, order, family, genus, species, authority, commonNameEnglish, taxonomyType, uniqueIdentifier]\n",
       "Index: []"
      ]
     },
     "execution_count": 13,
     "metadata": {},
     "output_type": "execute_result"
    }
   ],
   "source": [
    "taxonomy_df[(taxonomy_df['family'] == 'Sciurinae')]"
   ]
  },
  {
   "cell_type": "code",
   "execution_count": null,
   "metadata": {
    "id": "zR3vdEFq1aTu"
   },
   "outputs": [],
   "source": [
    "taxonomy_df[(taxonomy_df['order'] == 'Carnivora')]"
   ]
  },
  {
   "cell_type": "code",
   "execution_count": null,
   "metadata": {
    "colab": {
     "base_uri": "https://localhost:8080/",
     "height": 111
    },
    "id": "t7KlCOAo1aXT",
    "outputId": "c3051621-c293-4521-f2f6-741071a82650"
   },
   "outputs": [
    {
     "data": {
      "text/html": [
       "<div>\n",
       "<style scoped>\n",
       "    .dataframe tbody tr th:only-of-type {\n",
       "        vertical-align: middle;\n",
       "    }\n",
       "\n",
       "    .dataframe tbody tr th {\n",
       "        vertical-align: top;\n",
       "    }\n",
       "\n",
       "    .dataframe thead th {\n",
       "        text-align: right;\n",
       "    }\n",
       "</style>\n",
       "<table border=\"1\" class=\"dataframe\">\n",
       "  <thead>\n",
       "    <tr style=\"text-align: right;\">\n",
       "      <th></th>\n",
       "      <th>id</th>\n",
       "      <th>class</th>\n",
       "      <th>order</th>\n",
       "      <th>family</th>\n",
       "      <th>genus</th>\n",
       "      <th>species</th>\n",
       "      <th>authority</th>\n",
       "      <th>commonNameEnglish</th>\n",
       "      <th>taxonomyType</th>\n",
       "      <th>uniqueIdentifier</th>\n",
       "    </tr>\n",
       "  </thead>\n",
       "  <tbody>\n",
       "    <tr>\n",
       "      <th>4105</th>\n",
       "      <td>2021559</td>\n",
       "      <td>Insecta</td>\n",
       "      <td>Lepidoptera</td>\n",
       "      <td>None</td>\n",
       "      <td>None</td>\n",
       "      <td>None</td>\n",
       "      <td>None</td>\n",
       "      <td>Butterflies and Moths</td>\n",
       "      <td>biological</td>\n",
       "      <td>4a7126ec-2b0b-426d-bafd-356219eb487a</td>\n",
       "    </tr>\n",
       "    <tr>\n",
       "      <th>19924</th>\n",
       "      <td>2021552</td>\n",
       "      <td>Insecta</td>\n",
       "      <td>None</td>\n",
       "      <td>None</td>\n",
       "      <td>None</td>\n",
       "      <td>None</td>\n",
       "      <td>None</td>\n",
       "      <td>Insect</td>\n",
       "      <td>biological</td>\n",
       "      <td>9fb844bd-26d1-49f1-a829-0025a48d3bdb</td>\n",
       "    </tr>\n",
       "  </tbody>\n",
       "</table>\n",
       "</div>"
      ],
      "text/plain": [
       "            id    class  ... taxonomyType                      uniqueIdentifier\n",
       "4105   2021559  Insecta  ...   biological  4a7126ec-2b0b-426d-bafd-356219eb487a\n",
       "19924  2021552  Insecta  ...   biological  9fb844bd-26d1-49f1-a829-0025a48d3bdb\n",
       "\n",
       "[2 rows x 10 columns]"
      ]
     },
     "execution_count": 18,
     "metadata": {},
     "output_type": "execute_result"
    }
   ],
   "source": [
    "taxonomy_df[(taxonomy_df['class'] == 'Insecta')]"
   ]
  },
  {
   "cell_type": "code",
   "execution_count": 25,
   "metadata": {
    "id": "4--hrNrRWaMB"
   },
   "outputs": [],
   "source": [
    "# match unfound species name with corresponding name in WI taxon id\n",
    "\n",
    "match_unfound_species = {}\n",
    "# match_unfound_species[\"Natalia's Agama\"] = {\"commonNameEnglish\":\"\"}\n",
    "\n",
    "match_unfound_species[\"Indochinese Wren-babbler\"]           = {\"commonNameEnglish\":\"Indochinese Wren-Babbler\"}\n",
    "match_unfound_species[\"Impressed Tortoise\"]                 = {\"commonNameEnglish\":\"Impressed tortoise\"}\n",
    "match_unfound_species[\"Hill Blue Flycatcher\"]               = {\"commonNameEnglish\":\"Hill Blue-Flycatcher\"}\n",
    "match_unfound_species[\"Flying Insect\"]                      = {\"commonNameEnglish\":\"Insect\"}\n",
    "match_unfound_species[\"Animal\"]                             = {\"commonNameEnglish\":\"Mammal\"}\n",
    "match_unfound_species[\"Streaked Wren Babbler\"]              = {\"commonNameEnglish\":\"Streaked Wren-babbler\"}\n",
    "match_unfound_species[\"Asian Water Monitor\"]                = {\"commonNameEnglish\":\"Common Water Monitor\"}\n",
    "match_unfound_species[\"Asian Red-cheeked Squirrel\"]         = {\"commonNameEnglish\":\"Red-cheeked Squirrel\"}\n",
    "match_unfound_species[\"Muntjac\"]                            = {\"commonNameEnglish\":\"Muntiacus Species\"}\n",
    "match_unfound_species[\"Asian Black Bear\"]                   = {\"commonNameEnglish\":\"Asiatic Black Bear\"}\n",
    "match_unfound_species[\"Ferret-badger\"]                      = {\"commonNameEnglish\":\"Melogale Species\"}\n",
    "match_unfound_species[\"Rhesus Macaque\"]                     = {\"commonNameEnglish\":\"Rhesus Monkey\"}\n",
    "match_unfound_species[\"Murid\"]                              = {\"commonNameEnglish\":\"Muridae Family\"}\n",
    "match_unfound_species[\"Maxomys\"]                            = {\"commonNameEnglish\":\"Muridae Family\"}\n",
    "match_unfound_species[\"Leopoldamys\"]                        = {\"commonNameEnglish\":\"Muridae Family\"}\n",
    "match_unfound_species[\"Wild Pig\"]                           = {\"commonNameEnglish\":\"Wild Boar\"}\n",
    "match_unfound_species[\"Crested Serpent Eagle\"]              = {\"commonNameEnglish\":\"Crested Serpent-Eagle\"}\n",
    "match_unfound_species[\"Yellow-breasted Magpie\"]             = {\"commonNameEnglish\":\"Indochinese Green Magpie\"}\n",
    "match_unfound_species[\"Macaque\"]                            = {\"commonNameEnglish\":\"Macaca Species\"}\n",
    "match_unfound_species[\"Snake\"]                              = {\"commonNameEnglish\":\"Lizards and Snakes\"}\n",
    "match_unfound_species[\"Annamite Dark Muntjac\"]              = {\"commonNameEnglish\":\"Annamite Muntjac\"}\n",
    "match_unfound_species[\"White-Crowned Forktail\"]             = {\"commonNameEnglish\":\"White-crowned Forktail\"}\n",
    "match_unfound_species[\"Particolored Flying Squirrel\"]       = {\"commonNameEnglish\":\"African Linsang\"}\n",
    "match_unfound_species[\"Oriental Magpie Robin\"]              = {\"commonNameEnglish\":\"Oriental Magpie-Robin\"}\n",
    "match_unfound_species[\"Squirrel\"]                           = {\"commonNameEnglish\":\"Sciuridae Family\"}\n",
    "match_unfound_species[\"Butterfly\"]                          = {\"commonNameEnglish\":\"Butterflies and Moths\"}\n",
    "match_unfound_species[\"Moth\"]                               = {\"commonNameEnglish\":\"Butterflies and Moths\"}\n",
    "match_unfound_species[\"Asian Palm Civet\"]                   = {\"commonNameEnglish\":\"Common Palm Civet\"}\n",
    "match_unfound_species[\"Shrew\"]                              = {\"commonNameEnglish\":\"Soricidae Family\"}\n",
    "match_unfound_species[\"Racket-tailed Treepie\"]              = {\"commonNameEnglish\":\"Racquet-tailed Treepie\"}\n",
    "match_unfound_species[\"Emerald Dove\"]                       = {\"commonNameEnglish\":\"Common Emerald Dove\"}\n",
    "match_unfound_species[\"Domestic Buffalo\"]                   = {\"commonNameEnglish\":\"Bubalus Species\"}\n",
    "match_unfound_species[\"Malayan Night Heron\"]                = {\"commonNameEnglish\":\"Malay Night-heron\"}\n",
    "match_unfound_species[\"Lesser Mouse-deer\"]                  = {\"commonNameEnglish\":\"Lesser Oriental Chevrotain\"}\n",
    "match_unfound_species[\"Eastern Striped Squirrel\"]           = {\"commonNameEnglish\":\"Maritime Striped Squirrel\"}\n",
    "match_unfound_species[\"Green magpie\"]                       = {\"commonNameEnglish\":\"Common Green Magpie\"}\n",
    "match_unfound_species[\"Flying squirrel\"]                    = {\"commonNameEnglish\":\"Sciuridae Family\"}\n",
    "match_unfound_species[\"White-tailed Robin\"]                 = {\"commonNameEnglish\":\"White-tailed Blue Robin\"}\n",
    "match_unfound_species[\"Tickell's Blue Flycatcher\"]          = {\"commonNameEnglish\":\"Tickell's Blue-Flycatcher\"}\n",
    "match_unfound_species[\"Pale-footed Bush Warbler\"]           = {\"commonNameEnglish\":\"Pale-footed Bush-warbler\"}\n",
    "match_unfound_species[\"Streak-breasted Scimitar-babbler\"]   = {\"commonNameEnglish\":\"Streak-breasted Scimitar Babbler\"}\n",
    "match_unfound_species[\"Oriental Magpie-robin\"]              = {\"commonNameEnglish\":\"Oriental Magpie-Robin\"}\n",
    "match_unfound_species[\"Coral-billed Scimitar-babbler\"]      = {\"commonNameEnglish\":\"Coral-billed Scimitar Babbler\"}\n",
    "match_unfound_species[\"Grey-capped Emerald Dove\"]           = {\"commonNameEnglish\":\"Common Emerald Dove\"}\n",
    "match_unfound_species[\"Flying Squirrel\"]                    = {\"commonNameEnglish\":\"Sciuridae Family\"}\n",
    "\n",
    "match_unfound_species[\"Banded Kingfisher\"]                  = {\"genus\":\"Lacedo\",     \"species\":\"pulchella\"}\n",
    "match_unfound_species[\"Japanese Robin\"]                     = {\"genus\":\"Larvivora\",  \"species\":\"akahige\"}\n",
    "match_unfound_species[\"Ochraceous Bulbul\"]                  = {\"genus\":\"Alophoixus\", \"species\":\"ochraceus\"}\n",
    "match_unfound_species[\"Scaly Thrush\"]                       = {\"genus\":\"Zoothera\",   \"species\":\"dauma\"}\n",
    "match_unfound_species[\"White-throated Fantail\"]             = {\"genus\":\"Rhipidura\",  \"species\":\"albicollis\"}\n",
    "match_unfound_species[\"Brownish-flanked Bush Warbler\"]      = {\"genus\":\"Horornis\",   \"species\":\"fortipes\"}\n",
    "match_unfound_species[\"Greater Racquet-tailed Drongo\"]      = {\"genus\":\"Dicrurus\",   \"species\":\"paradiseus\"}\n",
    "match_unfound_species[\"Greater Racket-tailed Drongo\"]       = {\"genus\":\"Dicrurus\",   \"species\":\"paradiseus\"}\n",
    "match_unfound_species[\"Snowy-browed Flycatcher\"]            = {\"genus\":\"Ficedula\",   \"species\":\"hyperythra\"}\n",
    "match_unfound_species[\"Puff-throated Bulbul\"]               = {\"genus\":\"Alophoixus\", \"species\":\"pallidus\"}\n",
    "\n",
    "# rename some species\n",
    "match_unfound_species[\"Chinese Serow\"]                      = {\"commonNameEnglish\":\"Sumatran Serow\"}"
   ]
  },
  {
   "cell_type": "code",
   "execution_count": 26,
   "metadata": {
    "colab": {
     "base_uri": "https://localhost:8080/",
     "height": 462
    },
    "id": "vaevBlf6d5yN",
    "outputId": "4209a8e2-b016-46e0-8200-476b16b42c41"
   },
   "outputs": [
    {
     "name": "stdout",
     "output_type": "stream",
     "text": [
      "Natalia's Agama not found\n",
      "File is saved to 4.1_collect_WI-taxon-database.csv in Google Drive at /content/drive/My Drive/FFI/Wildlife Insights Bulk Upload Test/bulk-upload_template-autofill/data cleaning/4.1_collect_WI-taxon-database.csv\n"
     ]
    },
    {
     "data": {
      "text/html": [
       "<div>\n",
       "<style scoped>\n",
       "    .dataframe tbody tr th:only-of-type {\n",
       "        vertical-align: middle;\n",
       "    }\n",
       "\n",
       "    .dataframe tbody tr th {\n",
       "        vertical-align: top;\n",
       "    }\n",
       "\n",
       "    .dataframe thead th {\n",
       "        text-align: right;\n",
       "    }\n",
       "</style>\n",
       "<table border=\"1\" class=\"dataframe\">\n",
       "  <thead>\n",
       "    <tr style=\"text-align: right;\">\n",
       "      <th></th>\n",
       "      <th>id</th>\n",
       "      <th>class</th>\n",
       "      <th>order</th>\n",
       "      <th>family</th>\n",
       "      <th>genus</th>\n",
       "      <th>species</th>\n",
       "      <th>authority</th>\n",
       "      <th>commonNameEnglish</th>\n",
       "      <th>taxonomyType</th>\n",
       "      <th>uniqueIdentifier</th>\n",
       "      <th>FFI_species_name</th>\n",
       "    </tr>\n",
       "  </thead>\n",
       "  <tbody>\n",
       "    <tr>\n",
       "      <th>2360</th>\n",
       "      <td>2003133</td>\n",
       "      <td>Mammalia</td>\n",
       "      <td>Carnivora</td>\n",
       "      <td>Mustelidae</td>\n",
       "      <td>Mustela</td>\n",
       "      <td>kathiah</td>\n",
       "      <td>Hodgson, 1835</td>\n",
       "      <td>Yellow-bellied Weasel</td>\n",
       "      <td>biological</td>\n",
       "      <td>18df0149-eb16-4e46-a8ef-53f82bd14786</td>\n",
       "      <td>Yellow-bellied Weasel</td>\n",
       "    </tr>\n",
       "    <tr>\n",
       "      <th>6430</th>\n",
       "      <td>2008529</td>\n",
       "      <td>Aves</td>\n",
       "      <td>Strigiformes</td>\n",
       "      <td>Tytonidae</td>\n",
       "      <td>Phodilus</td>\n",
       "      <td>badius</td>\n",
       "      <td>Horsfield, 1821</td>\n",
       "      <td>Oriental Bay Owl</td>\n",
       "      <td>biological</td>\n",
       "      <td>b4f26318-22be-4bdf-b4a8-b207c0ad90ef</td>\n",
       "      <td>Oriental Bay Owl</td>\n",
       "    </tr>\n",
       "    <tr>\n",
       "      <th>3591</th>\n",
       "      <td>2004757</td>\n",
       "      <td>Mammalia</td>\n",
       "      <td>Rodentia</td>\n",
       "      <td>Spalacidae</td>\n",
       "      <td>Rhizomys</td>\n",
       "      <td>pruinosus</td>\n",
       "      <td>Blyth, 1851</td>\n",
       "      <td>Hoary Bamboo Rat</td>\n",
       "      <td>biological</td>\n",
       "      <td>89336aa7-efec-4e43-b0e9-c8be5bf91c76</td>\n",
       "      <td>Hoary Bamboo Rat</td>\n",
       "    </tr>\n",
       "    <tr>\n",
       "      <th>9437</th>\n",
       "      <td>2012701</td>\n",
       "      <td>Aves</td>\n",
       "      <td>Passeriformes</td>\n",
       "      <td>Rhipiduridae</td>\n",
       "      <td>Rhipidura</td>\n",
       "      <td>albicollis</td>\n",
       "      <td>Vieillot, 1818</td>\n",
       "      <td>None</td>\n",
       "      <td>biological</td>\n",
       "      <td>0f3f4083-15ca-4a13-96e2-32a5170e3a23</td>\n",
       "      <td>White-throated Fantail</td>\n",
       "    </tr>\n",
       "    <tr>\n",
       "      <th>14271</th>\n",
       "      <td>2005301</td>\n",
       "      <td>Mammalia</td>\n",
       "      <td>Rodentia</td>\n",
       "      <td>Sciuridae</td>\n",
       "      <td>Tamiops</td>\n",
       "      <td>maritimus</td>\n",
       "      <td>Bonhote, 1900</td>\n",
       "      <td>Maritime Striped Squirrel</td>\n",
       "      <td>biological</td>\n",
       "      <td>d17ee71d-ac39-44cf-b189-5eabd120b26f</td>\n",
       "      <td>Eastern Striped Squirrel</td>\n",
       "    </tr>\n",
       "    <tr>\n",
       "      <th>21520</th>\n",
       "      <td>2021317</td>\n",
       "      <td>Mammalia</td>\n",
       "      <td>Rodentia</td>\n",
       "      <td>Sciuridae</td>\n",
       "      <td>None</td>\n",
       "      <td>None</td>\n",
       "      <td>None</td>\n",
       "      <td>Sciuridae Family</td>\n",
       "      <td>biological</td>\n",
       "      <td>e4d1e892-0e4b-475a-a8ac-b5c3502e0d55</td>\n",
       "      <td>Flying Squirrel</td>\n",
       "    </tr>\n",
       "    <tr>\n",
       "      <th>16851</th>\n",
       "      <td>2015024</td>\n",
       "      <td>Aves</td>\n",
       "      <td>Passeriformes</td>\n",
       "      <td>Turdidae</td>\n",
       "      <td>Geokichla</td>\n",
       "      <td>citrina</td>\n",
       "      <td>Latham, 1790</td>\n",
       "      <td>Orange-headed Thrush</td>\n",
       "      <td>biological</td>\n",
       "      <td>b1e4f65f-55d7-4074-af7d-561adb1e5524</td>\n",
       "      <td>Orange-headed Thrush</td>\n",
       "    </tr>\n",
       "  </tbody>\n",
       "</table>\n",
       "</div>"
      ],
      "text/plain": [
       "            id  ...          FFI_species_name\n",
       "2360   2003133  ...     Yellow-bellied Weasel\n",
       "6430   2008529  ...          Oriental Bay Owl\n",
       "3591   2004757  ...          Hoary Bamboo Rat\n",
       "9437   2012701  ...    White-throated Fantail\n",
       "14271  2005301  ...  Eastern Striped Squirrel\n",
       "21520  2021317  ...           Flying Squirrel\n",
       "16851  2015024  ...      Orange-headed Thrush\n",
       "\n",
       "[7 rows x 11 columns]"
      ]
     },
     "execution_count": 26,
     "metadata": {},
     "output_type": "execute_result"
    }
   ],
   "source": [
    "# match species name with corresponding name in WI taxon id\n",
    "\n",
    "match_table = taxonomy_df[taxonomy_df['commonNameEnglish'] == \"\"]\n",
    "FFI_species_name = []\n",
    "\n",
    "species_list = df['species_common_name'].dropna().unique()\n",
    "# add Blank as a species\n",
    "species_list = np.append(species_list, 'Blank')\n",
    "\n",
    "for s in species_list:\n",
    "  if (s in match_unfound_species): \n",
    "    FFI_species_name.append(s)\n",
    "    # if the species has commonNameEnglish\n",
    "    if 'commonNameEnglish' in match_unfound_species[s]:\n",
    "      if taxonomy_df[taxonomy_df['commonNameEnglish'] == match_unfound_species[s]['commonNameEnglish']].empty:\n",
    "        print('Cannot find', s)\n",
    "        continue\n",
    "      match_table = match_table.append(taxonomy_df[taxonomy_df['commonNameEnglish'] == match_unfound_species[s]['commonNameEnglish']])\n",
    "    # if the species has genus\n",
    "    else:\n",
    "      if taxonomy_df[(taxonomy_df['genus'] == match_unfound_species[s]['genus']) &\n",
    "                      (taxonomy_df['species'] == match_unfound_species[s]['species'])].empty:\n",
    "        print('Cannot find', s)\n",
    "        continue\n",
    "      match_table = match_table.append(taxonomy_df[(taxonomy_df['genus'] == \\\n",
    "                                                      match_unfound_species[s]['genus']) & \\\n",
    "                                                      (taxonomy_df['species'] == \\\n",
    "                                                      match_unfound_species[s]['species'])])\n",
    "\n",
    "  else:\n",
    "    if s in taxonomy_df['commonNameEnglish'].to_list():\n",
    "      FFI_species_name.append(s)\n",
    "      match_table = match_table.append(taxonomy_df[taxonomy_df['commonNameEnglish'] == s])\n",
    "    else:\n",
    "      print(f\"{s} not found\")\n",
    "\n",
    "match_table['FFI_species_name'] = FFI_species_name\n",
    "\n",
    "# save match_table to Google Drive\n",
    "save_csv_Google_drive(match_table, root, contain_folder, WIdatabase_file_name)\n",
    "match_table.sample(7)"
   ]
  },
  {
   "cell_type": "code",
   "execution_count": null,
   "metadata": {
    "id": "_x2PSaKMsG7_"
   },
   "outputs": [],
   "source": []
  }
 ],
 "metadata": {
  "colab": {
   "authorship_tag": "ABX9TyNW6lrCz9km240VMCggFMUM",
   "collapsed_sections": [],
   "include_colab_link": true,
   "name": "04_collect-WI-taxon-database.ipynb",
   "provenance": []
  },
  "kernelspec": {
   "display_name": "Python 3 (ipykernel)",
   "language": "python",
   "name": "python3"
  },
  "language_info": {
   "codemirror_mode": {
    "name": "ipython",
    "version": 3
   },
   "file_extension": ".py",
   "mimetype": "text/x-python",
   "name": "python",
   "nbconvert_exporter": "python",
   "pygments_lexer": "ipython3",
   "version": "3.8.12"
  }
 },
 "nbformat": 4,
 "nbformat_minor": 1
}
