{
 "cells": [
  {
   "cell_type": "markdown",
   "metadata": {
    "colab_type": "text",
    "id": "view-in-github"
   },
   "source": [
    "<a href=\"https://colab.research.google.com/github/FFI-Vietnam/camtrap-tools/blob/main/Wildlife%20Insights/GoogleDriveToGCP_FFIVietnam.ipynb\" target=\"_parent\"><img src=\"https://colab.research.google.com/assets/colab-badge.svg\" alt=\"Open In Colab\"/></a>"
   ]
  },
  {
   "cell_type": "markdown",
   "metadata": {
    "id": "P0eu6EkwXRRb"
   },
   "source": [
    "# GoogleDriveToGCP Script\n",
    "## Migrate Files from a Google Drive folder a Google Cloud Platform bucket\n",
    "\n",
    "Adapted from https://github.com/ConservationInternational/Wildlife-Insights----Data-Migration/tree/master/Image_Transfer\n"
   ]
  },
  {
   "cell_type": "markdown",
   "metadata": {
    "id": "olpReR9Aiv6Z"
   },
   "source": [
    "### 1. Sign into Google Drive\n",
    "\n",
    "a.   Run the following cell\n",
    "\n",
    "b.   Click on the URL in the output cell\n",
    "\n",
    "c.   Sign into the account linked to the Google Drive folder you'd like to migrate\n",
    "\n",
    "d.   Click \"Allow\"\n",
    "\n",
    "e.   Copy and paste the Authorization code into the box in the output cell. It should say \"Mounted at /content/drive\" if successful"
   ]
  },
  {
   "cell_type": "code",
   "execution_count": null,
   "metadata": {
    "colab": {
     "base_uri": "https://localhost:8080/"
    },
    "id": "bdC12NSU501V",
    "outputId": "e1bd8cb8-fb4b-4e39-847f-3b496a0a23c3"
   },
   "outputs": [],
   "source": [
    "from google.colab import drive\n",
    "drive.mount('/content/drive')"
   ]
  },
  {
   "cell_type": "markdown",
   "metadata": {
    "id": "ggTjryYlY4Ir"
   },
   "source": [
    "### 2. Direct this script to the Google Drive folder\n",
    "\n",
    "a. Replace ``` [Image_Folder] ``` with the path to Google Drive parent folder that contains the images. Example: ```\"My Drive/Camera Trap Data/Kon Plong/2019-2020 Survey/Processed images/Final\"```\n",
    "\n",
    "b. Run the following cell\n",
    "\n",
    "c. Ensure that the outputted files match those that are contained in the Google Drive folder\n",
    "\n"
   ]
  },
  {
   "cell_type": "code",
   "execution_count": null,
   "metadata": {
    "colab": {
     "base_uri": "https://localhost:8080/"
    },
    "id": "bXk8xfKF5_w_",
    "outputId": "f52e6da9-310e-4f16-9ef5-c5da49622c29"
   },
   "outputs": [],
   "source": [
    "GDFolder =  \"My Drive/[Image_Folder]\"\n",
    "\n",
    "# list all sub-folders\n",
    "print(\"Sub-folders: \")\n",
    "!ls \"/content/drive/{GDFolder}/\""
   ]
  },
  {
   "cell_type": "markdown",
   "metadata": {
    "id": "BZzVit43itah"
   },
   "source": [
    "### 3. Sign into GCP\n",
    "\n",
    "a.   Run the following cell\n",
    "\n",
    "b.   Click on the URL in the output cell\n",
    "\n",
    "c.   Sign into the account linked to the Google Drive folder you'd like to migrate\n",
    "\n",
    "d.   Click \"Allow\"\n",
    "\n",
    "e.   Copy and paste the Authorization code into the box in the output cell"
   ]
  },
  {
   "cell_type": "code",
   "execution_count": null,
   "metadata": {
    "id": "fHE1M_yJlOvR"
   },
   "outputs": [],
   "source": [
    "from google.colab import auth\n",
    "auth.authenticate_user()"
   ]
  },
  {
   "cell_type": "markdown",
   "metadata": {
    "id": "TspX92EUlVGk"
   },
   "source": [
    "### 4. Direct this script to the GCP bucket\n",
    "\n",
    "a. Replace ``` [Project_ID] ``` with the GCP project ID. Consult Wildlife Insigths staff for more information.\n",
    "\n",
    "b. Replace ``` [Bucket_Name] ``` with the organization's GCP bucket name. The bucket name is unique for each organization, contact Wildlife Insights staff for more information.\n",
    "\n",
    "c. Replace ```[Project_Folder]``` with the folder in GCP where you want to save your images in. Example: ```project_folder = \"KONPLONG19-20\"```\n",
    "\n",
    "d. Ensure that the outputted files match those that are in the GCP bucket (If the bucket is empty, make a temporary test file in the GCP bucket)"
   ]
  },
  {
   "cell_type": "code",
   "execution_count": null,
   "metadata": {},
   "outputs": [],
   "source": [
    "project_id = '[Project_ID]'\n",
    "bucket = '[Bucket_Name]'\n",
    "project_folder = \"[Project_Folder]\""
   ]
  },
  {
   "cell_type": "code",
   "execution_count": null,
   "metadata": {
    "colab": {
     "base_uri": "https://localhost:8080/"
    },
    "id": "K-RDwPbDmAfL",
    "outputId": "7b2cb4ac-af56-4a83-c5d5-3963234699d8"
   },
   "outputs": [],
   "source": [
    "!gcloud config set project {project_id}\n",
    "\n",
    "# list all projects in GCP\n",
    "!gsutil ls \"gs://{bucket}/\" > GCP_projects.txt\n",
    "with open(\"GCP_projects.txt\") as f:\n",
    "  list_projects = f.read().split('\\n')[:-1]\n",
    "\n",
    "# create a new project folder in GCP if not existed, pass otherwise\n",
    "if f'gs://{bucket}/{project_folder}/' not in list_projects:\n",
    "  # create a project folder and temporary placeholder file in Google Colab\n",
    "  !mkdir \"{project_folder}\"\n",
    "  !touch \"{project_folder}/placeholder_file\"\n",
    "  # upload the folder and placeholder file to GCP\n",
    "  !gsutil cp -r \"{project_folder}\" \"gs://{bucket}/\"\n",
    "  # print Success message\n",
    "  print('Successfully created project', project_folder)\n",
    "  !gsutil ls \"gs://{bucket}/\"\n",
    "else:\n",
    "  print(f\"Project gs://{bucket}/{project_folder} exists! Creating new project aborted\")"
   ]
  },
  {
   "cell_type": "code",
   "execution_count": null,
   "metadata": {
    "colab": {
     "base_uri": "https://localhost:8080/"
    },
    "id": "qtJuScDRa31e",
    "outputId": "bf2623f7-5465-4bcc-b680-8162e8bbcba5"
   },
   "outputs": [],
   "source": [
    "# to check the status of project folder in GCP\n",
    "!gsutil ls \"gs://{bucket}/{project_folder}/\""
   ]
  },
  {
   "cell_type": "markdown",
   "metadata": {
    "id": "fQWk6V3-oL6s"
   },
   "source": [
    "### 5. Copy the Google Drive files to the GCP Bucket\n",
    "\n",
    "a. Run the following cell\n",
    "\n",
    "NOTE: If you are running this script in Google Colab, you may close the tab/window while it's running\n",
    "\n",
    "b. Manually ensure the script worked by checking the GCP Bucket"
   ]
  },
  {
   "cell_type": "code",
   "execution_count": null,
   "metadata": {
    "colab": {
     "base_uri": "https://localhost:8080/"
    },
    "id": "wljHMAdxXtPF",
    "outputId": "40c4c1d2-e1f9-419b-b12a-0341ba7ae7b9"
   },
   "outputs": [],
   "source": [
    "# Uploaded from where left off\n",
    "# list all station folders in Google Drive\n",
    "!ls \"/content/drive/{GDFolder}\" > drive_folders.txt\n",
    "\n",
    "# list all station folders in GCP\n",
    "!gsutil ls \"gs://{bucket}/{project_folder}/\" > GCP_folders.txt\n",
    "\n",
    "# list all folders on Google Drive\n",
    "with open(\"drive_folders.txt\", 'r') as f:\n",
    "  list_folder_total = f.read().split('\\n')[:-1]\n",
    "\n",
    "# number of uploaded folders\n",
    "with open(\"GCP_folders.txt\", 'r') as f:\n",
    "  try:\n",
    "    # [-2] acounts for ignoring the last folder because it may not be uploaded completely\n",
    "    list_folder_uploaded = f.read().split('\\n')[:-2] \n",
    "  except:\n",
    "     list_folder_uploaded = []\n",
    "\n",
    "# continue uploading from left\n",
    "for folder in list_folder_total:\n",
    "  if f'gs://{bucket}/{project_folder}/{folder}/' not in list_folder_uploaded:\n",
    "    print(f'Currently uploaded folder {folder}')\n",
    "    !gsutil -m cp -r \"/content/drive/{GDFolder}/{folder}\" \"gs://{bucket}/{project_folder}/\""
   ]
  },
  {
   "cell_type": "code",
   "execution_count": null,
   "metadata": {
    "colab": {
     "base_uri": "https://localhost:8080/"
    },
    "id": "ht5xItDbONWt",
    "outputId": "112c42b1-e522-4fd5-c579-143ceddec39f"
   },
   "outputs": [],
   "source": [
    "# sanity check: to check if all images are uploaded to bucket preperly\n",
    "\n",
    "!ls -R \"/content/drive/{GDFolder}\" > drive_files.txt\n",
    "!gsutil ls -R \"gs://{bucket}\" > GCP_files.txt\n",
    "\n",
    "# save all file names in Drive to a txt\n",
    "with open(\"drive_files.txt\") as f:\n",
    "  drive_files = f.read().split('\\n')\n",
    "\n",
    "# save all file names in GGCP to a txt\n",
    "GCP_files = []\n",
    "with open(\"GCP_files.txt\") as f:\n",
    "  temp = f.read().split('\\n')\n",
    "  for j in temp:\n",
    "    GCP_files.append(j.split('/')[-1])\n",
    "  \n",
    "# list all failed files\n",
    "failed_files = []\n",
    "for file in drive_files:\n",
    "  if file not in GCP_files:\n",
    "    # check if that is a file\n",
    "    if file.lower().endswith(('jpg', 'jpeg')):\n",
    "      failed_files.append(file)\n",
    "      print(file)\n",
    "  \n",
    "with open('failed_files.txt', 'w') as f:\n",
    "  for i in failed_files:\n",
    "    f.write(i+'\\n')\n",
    "    \n",
    "print(\"There are\", len(set(failed_files)), \"files fail to upload\")"
   ]
  },
  {
   "cell_type": "code",
   "execution_count": null,
   "metadata": {
    "id": "e6Kd-aG0V28T"
   },
   "outputs": [],
   "source": []
  }
 ],
 "metadata": {
  "colab": {
   "collapsed_sections": [],
   "include_colab_link": true,
   "name": "GoogleDriveToGCP.ipynb",
   "provenance": []
  },
  "kernelspec": {
   "display_name": "Python 3 (ipykernel)",
   "language": "python",
   "name": "python3"
  },
  "language_info": {
   "codemirror_mode": {
    "name": "ipython",
    "version": 3
   },
   "file_extension": ".py",
   "mimetype": "text/x-python",
   "name": "python",
   "nbconvert_exporter": "python",
   "pygments_lexer": "ipython3",
   "version": "3.8.12"
  }
 },
 "nbformat": 4,
 "nbformat_minor": 1
}
