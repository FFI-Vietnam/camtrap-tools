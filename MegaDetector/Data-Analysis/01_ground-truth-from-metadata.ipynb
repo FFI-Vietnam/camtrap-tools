{
 "cells": [
  {
   "cell_type": "markdown",
   "metadata": {
    "colab_type": "text",
    "id": "view-in-github"
   },
   "source": [
    "<a href=\"https://colab.research.google.com/github/FFI-Vietnam/camtrap-tools/blob/main/MegaDetector/confusion_matrix/01_ground-truth-from-metadata.ipynb\" target=\"_parent\"><img src=\"https://colab.research.google.com/assets/colab-badge.svg\" alt=\"Open In Colab\"/></a>"
   ]
  },
  {
   "cell_type": "code",
   "execution_count": null,
   "metadata": {
    "id": "7dfLU27qrNfW"
   },
   "outputs": [],
   "source": [
    "\"\"\"\n",
    "This script walks through the process of extracting ground-truth data from exiftool metadata file \n",
    "to compare with MegaDetector predictions later.\n",
    "It also groups 3s-consecutive images into a group.\n",
    "\n",
    "After runnning this script, a 'data cleaning' folder is created\n",
    "\n",
    "data cleaning\n",
    "    |__ 01_ground-truth-table_Kon-Plong.csv\n",
    "    \n",
    "\"\"\""
   ]
  },
  {
   "cell_type": "code",
   "execution_count": 1,
   "metadata": {
    "id": "mBWrALcLpt2N"
   },
   "outputs": [],
   "source": [
    "import pandas as pd\n",
    "import numpy as np\n",
    "import os"
   ]
  },
  {
   "cell_type": "code",
   "execution_count": 2,
   "metadata": {
    "colab": {
     "base_uri": "https://localhost:8080/"
    },
    "id": "9Uwh3o3MpdKh",
    "outputId": "fb8e9fc7-dde4-4e14-a06d-1dc799c83fbf"
   },
   "outputs": [
    {
     "name": "stdout",
     "output_type": "stream",
     "text": [
      "Mounted at /content/drive\n"
     ]
    }
   ],
   "source": [
    "from google.colab import drive\n",
    "drive.mount('/content/drive')"
   ]
  },
  {
   "cell_type": "code",
   "execution_count": 3,
   "metadata": {
    "id": "8EHnnRIJvkQ-"
   },
   "outputs": [],
   "source": [
    "# specifies Colab directories and file names\n",
    "root = '/content/drive/'\n",
    "\n",
    "dataset_folder = 'My Drive/FFI/MegaDetector Test/confusion-matrix/dataset'\n",
    "WI_folder = 'My Drive/FFI/Wildlife Insights Bulk Upload Test/bulk-upload_template-autofill/data cleaning'\n",
    "contain_folder = 'My Drive/FFI/MegaDetector Test/confusion-matrix/data cleaning'\n",
    "\n",
    "# ground-truth table is generated using Wildlife Insights/bulk-upload/01_clean-exiftool-dataset.ipynb script\n",
    "# it is saved as 1.3_clean_metadata_single-species-row.csv\n",
    "WI_ground_truth_file_name = '1.3_clean_metadata_single-species-row.csv'\n",
    "\n",
    "detection_ground_truth_file_name = \"01_ground-truth-table_Kon-Plong.csv\""
   ]
  },
  {
   "cell_type": "code",
   "execution_count": 4,
   "metadata": {
    "id": "0w3aCA55TZFy"
   },
   "outputs": [],
   "source": [
    "# read and save file functions\n",
    "def read_csv_Google_drive(root, contain_folder, file_name):\n",
    "  file_path = os.path.join(root, contain_folder, file_name)\n",
    "  return pd.read_csv(file_path)\n",
    "\n",
    "def save_csv_Google_drive(df, root, contain_folder, file_name):\n",
    "  \"\"\"\n",
    "  function to save a csv file to Google Drive\n",
    "  param examples:\n",
    "    root = '/content/drive/'\n",
    "    contain_folder = 'My Drive/FFI/dataset'\n",
    "    file_name = 'image_metadata(2020-06-26)_full.csv'\n",
    "  \"\"\"\n",
    "  # save file to Colab runtime storage (will be deleted when this notebook is closed)\n",
    "  df.to_csv('dataframe.csv', index=False)\n",
    "\n",
    "  # save file back to Google Drive for permanent storage\n",
    "  folder_path = os.path.join(root, contain_folder)\n",
    "  file_path = os.path.join(root, contain_folder, file_name)\n",
    "  try:\n",
    "    os.makedirs(folder_path)\n",
    "  except:\n",
    "    pass\n",
    "\n",
    "  with open('dataframe.csv', 'r') as f:\n",
    "    df_file = f.read()\n",
    "\n",
    "  with open(file_path, 'w') as f:\n",
    "    f.write(df_file)\n",
    "\n",
    "  print(f'File is saved to {file_name} in Google Drive at {file_path}')"
   ]
  },
  {
   "cell_type": "code",
   "execution_count": 5,
   "metadata": {
    "colab": {
     "base_uri": "https://localhost:8080/",
     "height": 223
    },
    "id": "IldTvkZOhXra",
    "outputId": "8dd0bff5-510d-4813-baa4-c0d3c0f79b6b"
   },
   "outputs": [
    {
     "name": "stdout",
     "output_type": "stream",
     "text": [
      "#animal-images / #images = 0.24887111691420488\n"
     ]
    },
    {
     "data": {
      "text/html": [
       "<div>\n",
       "<style scoped>\n",
       "    .dataframe tbody tr th:only-of-type {\n",
       "        vertical-align: middle;\n",
       "    }\n",
       "\n",
       "    .dataframe tbody tr th {\n",
       "        vertical-align: top;\n",
       "    }\n",
       "\n",
       "    .dataframe thead th {\n",
       "        text-align: right;\n",
       "    }\n",
       "</style>\n",
       "<table border=\"1\" class=\"dataframe\">\n",
       "  <thead>\n",
       "    <tr style=\"text-align: right;\">\n",
       "      <th></th>\n",
       "      <th>FileName</th>\n",
       "      <th>species_common_name</th>\n",
       "      <th>datetime_created</th>\n",
       "      <th>Flash</th>\n",
       "    </tr>\n",
       "  </thead>\n",
       "  <tbody>\n",
       "    <tr>\n",
       "      <th>0</th>\n",
       "      <td>197__68974__2019-04-27__10-42-20(1).JPG</td>\n",
       "      <td>Human</td>\n",
       "      <td>2019-04-27 10:42:20</td>\n",
       "      <td>No Flash</td>\n",
       "    </tr>\n",
       "    <tr>\n",
       "      <th>1</th>\n",
       "      <td>197__68974__2019-04-27__10-42-21(2).JPG</td>\n",
       "      <td>Human</td>\n",
       "      <td>2019-04-27 10:42:21</td>\n",
       "      <td>No Flash</td>\n",
       "    </tr>\n",
       "    <tr>\n",
       "      <th>2</th>\n",
       "      <td>197__68974__2019-04-27__10-42-22(3).JPG</td>\n",
       "      <td>Human</td>\n",
       "      <td>2019-04-27 10:42:22</td>\n",
       "      <td>No Flash</td>\n",
       "    </tr>\n",
       "    <tr>\n",
       "      <th>3</th>\n",
       "      <td>197__68974__2019-04-27__10-42-44(4).JPG</td>\n",
       "      <td>Human</td>\n",
       "      <td>2019-04-27 10:42:44</td>\n",
       "      <td>No Flash</td>\n",
       "    </tr>\n",
       "    <tr>\n",
       "      <th>4</th>\n",
       "      <td>197__68974__2019-04-27__10-42-45(5).JPG</td>\n",
       "      <td>Human</td>\n",
       "      <td>2019-04-27 10:42:45</td>\n",
       "      <td>No Flash</td>\n",
       "    </tr>\n",
       "  </tbody>\n",
       "</table>\n",
       "</div>"
      ],
      "text/plain": [
       "                                  FileName  ...     Flash\n",
       "0  197__68974__2019-04-27__10-42-20(1).JPG  ...  No Flash\n",
       "1  197__68974__2019-04-27__10-42-21(2).JPG  ...  No Flash\n",
       "2  197__68974__2019-04-27__10-42-22(3).JPG  ...  No Flash\n",
       "3  197__68974__2019-04-27__10-42-44(4).JPG  ...  No Flash\n",
       "4  197__68974__2019-04-27__10-42-45(5).JPG  ...  No Flash\n",
       "\n",
       "[5 rows x 4 columns]"
      ]
     },
     "execution_count": 5,
     "metadata": {},
     "output_type": "execute_result"
    }
   ],
   "source": [
    "# read ground-truth table\n",
    "ground_truth_table = read_csv_Google_drive(root, WI_folder, WI_ground_truth_file_name)\n",
    "# keep only filename and species_common_name column\n",
    "ground_truth_table = ground_truth_table[['FileName', 'species_common_name', 'datetime_created', 'Flash']]\n",
    "print(f\"#animal-images / #images = {len(ground_truth_table[ground_truth_table['species_common_name'].notnull()])/len(ground_truth_table)}\")\n",
    "ground_truth_table.head(5)"
   ]
  },
  {
   "cell_type": "code",
   "execution_count": 6,
   "metadata": {
    "colab": {
     "base_uri": "https://localhost:8080/",
     "height": 461
    },
    "id": "jeRFHjFnp-M3",
    "outputId": "b0db6f72-e883-46ed-9049-1879b7518732"
   },
   "outputs": [
    {
     "name": "stdout",
     "output_type": "stream",
     "text": [
      "File is saved to 01_ground-truth-table_Kon-Plong.csv in Google Drive at /content/drive/My Drive/FFI/MegaDetector Test/confusion-matrix/data cleaning/01_ground-truth-table_Kon-Plong.csv\n"
     ]
    },
    {
     "data": {
      "text/html": [
       "<div>\n",
       "<style scoped>\n",
       "    .dataframe tbody tr th:only-of-type {\n",
       "        vertical-align: middle;\n",
       "    }\n",
       "\n",
       "    .dataframe tbody tr th {\n",
       "        vertical-align: top;\n",
       "    }\n",
       "\n",
       "    .dataframe thead th {\n",
       "        text-align: right;\n",
       "    }\n",
       "</style>\n",
       "<table border=\"1\" class=\"dataframe\">\n",
       "  <thead>\n",
       "    <tr style=\"text-align: right;\">\n",
       "      <th></th>\n",
       "      <th>FileName</th>\n",
       "      <th>species_common_name</th>\n",
       "      <th>datetime_created</th>\n",
       "      <th>Flash</th>\n",
       "      <th>batch_group</th>\n",
       "      <th>id</th>\n",
       "    </tr>\n",
       "  </thead>\n",
       "  <tbody>\n",
       "    <tr>\n",
       "      <th>0</th>\n",
       "      <td>197__68974__2019-04-27__10-42-20(1).JPG</td>\n",
       "      <td>Human</td>\n",
       "      <td>2019-04-27 10:42:20</td>\n",
       "      <td>No Flash</td>\n",
       "      <td>0</td>\n",
       "      <td>0</td>\n",
       "    </tr>\n",
       "    <tr>\n",
       "      <th>1</th>\n",
       "      <td>197__68974__2019-04-27__10-42-21(2).JPG</td>\n",
       "      <td>Human</td>\n",
       "      <td>2019-04-27 10:42:21</td>\n",
       "      <td>No Flash</td>\n",
       "      <td>0</td>\n",
       "      <td>1</td>\n",
       "    </tr>\n",
       "    <tr>\n",
       "      <th>2</th>\n",
       "      <td>197__68974__2019-04-27__10-42-22(3).JPG</td>\n",
       "      <td>Human</td>\n",
       "      <td>2019-04-27 10:42:22</td>\n",
       "      <td>No Flash</td>\n",
       "      <td>0</td>\n",
       "      <td>2</td>\n",
       "    </tr>\n",
       "    <tr>\n",
       "      <th>3</th>\n",
       "      <td>197__68974__2019-04-27__10-42-44(4).JPG</td>\n",
       "      <td>Human</td>\n",
       "      <td>2019-04-27 10:42:44</td>\n",
       "      <td>No Flash</td>\n",
       "      <td>1</td>\n",
       "      <td>3</td>\n",
       "    </tr>\n",
       "    <tr>\n",
       "      <th>4</th>\n",
       "      <td>197__68974__2019-04-27__10-42-45(5).JPG</td>\n",
       "      <td>Human</td>\n",
       "      <td>2019-04-27 10:42:45</td>\n",
       "      <td>No Flash</td>\n",
       "      <td>1</td>\n",
       "      <td>4</td>\n",
       "    </tr>\n",
       "    <tr>\n",
       "      <th>...</th>\n",
       "      <td>...</td>\n",
       "      <td>...</td>\n",
       "      <td>...</td>\n",
       "      <td>...</td>\n",
       "      <td>...</td>\n",
       "      <td>...</td>\n",
       "    </tr>\n",
       "    <tr>\n",
       "      <th>110281</th>\n",
       "      <td>196__68890__2019-08-05__17-58-54(2).JPG</td>\n",
       "      <td>NaN</td>\n",
       "      <td>2019-08-05 17:58:54</td>\n",
       "      <td>Fired</td>\n",
       "      <td>85333</td>\n",
       "      <td>110281</td>\n",
       "    </tr>\n",
       "    <tr>\n",
       "      <th>110282</th>\n",
       "      <td>196__68890__2019-08-05__17-59-22(1).JPG</td>\n",
       "      <td>NaN</td>\n",
       "      <td>2019-08-05 17:59:22</td>\n",
       "      <td>Fired</td>\n",
       "      <td>85334</td>\n",
       "      <td>110282</td>\n",
       "    </tr>\n",
       "    <tr>\n",
       "      <th>110283</th>\n",
       "      <td>196__68890__2019-08-06__06-31-24(1).JPG</td>\n",
       "      <td>Rufous-throated Partridge</td>\n",
       "      <td>2019-08-06 06:31:24</td>\n",
       "      <td>Fired</td>\n",
       "      <td>85335</td>\n",
       "      <td>110283</td>\n",
       "    </tr>\n",
       "    <tr>\n",
       "      <th>110284</th>\n",
       "      <td>196__68890__2019-08-06__06-31-54(2).JPG</td>\n",
       "      <td>NaN</td>\n",
       "      <td>2019-08-06 06:31:54</td>\n",
       "      <td>Fired</td>\n",
       "      <td>85336</td>\n",
       "      <td>110284</td>\n",
       "    </tr>\n",
       "    <tr>\n",
       "      <th>110285</th>\n",
       "      <td>196__68890__2019-08-06__06-32-29(1).JPG</td>\n",
       "      <td>NaN</td>\n",
       "      <td>2019-08-06 06:32:29</td>\n",
       "      <td>Fired</td>\n",
       "      <td>85337</td>\n",
       "      <td>110285</td>\n",
       "    </tr>\n",
       "  </tbody>\n",
       "</table>\n",
       "<p>110286 rows × 6 columns</p>\n",
       "</div>"
      ],
      "text/plain": [
       "                                       FileName  ...      id\n",
       "0       197__68974__2019-04-27__10-42-20(1).JPG  ...       0\n",
       "1       197__68974__2019-04-27__10-42-21(2).JPG  ...       1\n",
       "2       197__68974__2019-04-27__10-42-22(3).JPG  ...       2\n",
       "3       197__68974__2019-04-27__10-42-44(4).JPG  ...       3\n",
       "4       197__68974__2019-04-27__10-42-45(5).JPG  ...       4\n",
       "...                                         ...  ...     ...\n",
       "110281  196__68890__2019-08-05__17-58-54(2).JPG  ...  110281\n",
       "110282  196__68890__2019-08-05__17-59-22(1).JPG  ...  110282\n",
       "110283  196__68890__2019-08-06__06-31-24(1).JPG  ...  110283\n",
       "110284  196__68890__2019-08-06__06-31-54(2).JPG  ...  110284\n",
       "110285  196__68890__2019-08-06__06-32-29(1).JPG  ...  110285\n",
       "\n",
       "[110286 rows x 6 columns]"
      ]
     },
     "execution_count": 6,
     "metadata": {},
     "output_type": "execute_result"
    }
   ],
   "source": [
    "# the above dataset shows that a batch of three is usually 2s-interval\n",
    "# for example 41-43-45 or 21-22-24\n",
    "# so, to determine a batch, they should be grouped into 5s interval\n",
    "\n",
    "ground_truth_table = read_csv_Google_drive(root, WI_folder, WI_ground_truth_file_name)\n",
    "ground_truth_table = ground_truth_table[['FileName', 'species_common_name', 'datetime_created', 'Flash']]\n",
    "\n",
    "# define CONSTANT\n",
    "BATCH_INTERVAL = 2 # 2 seconds\n",
    "NUM_CONSECTIVE_IMAGES = 3 # captures max 3 images in a row\n",
    "\n",
    "batch_group = []\n",
    "\n",
    "# convert datetime_created column to pandas datetime type\n",
    "ground_truth_table['datetime_created'] = pd.to_datetime(ground_truth_table['datetime_created'])\n",
    "\n",
    "first_of_batch = ground_truth_table['datetime_created'][0]\n",
    "current_batch = 0\n",
    "batch_group.append(current_batch)\n",
    "for i in range(1, len(ground_truth_table)):\n",
    "  # in a batch\n",
    "  if (ground_truth_table['datetime_created'][i]-first_of_batch).seconds < BATCH_INTERVAL*NUM_CONSECTIVE_IMAGES:\n",
    "    batch_group.append(current_batch)\n",
    "  else:\n",
    "    first_of_batch = ground_truth_table['datetime_created'][i]\n",
    "    current_batch += 1\n",
    "    batch_group.append(current_batch)\n",
    "\n",
    "ground_truth_table['batch_group'] = batch_group\n",
    "\n",
    "# use as index column in replacement for FileName (has duplication due to explode)\n",
    "id = [i for i in range(len(ground_truth_table))]\n",
    "ground_truth_table['id'] = id\n",
    "\n",
    "# bring id column to first\n",
    "# ground_truth_table = ground_truth_table[['id', 'FileName', 'datetime_created', 'datetime_created', 'batch_group']]\n",
    "# EDIT: not do this bc pandas will exclude it when reading csv\n",
    "\n",
    "# save to file\n",
    "save_csv_Google_drive(ground_truth_table, root, contain_folder, detection_ground_truth_file_name)\n",
    "\n",
    "ground_truth_table"
   ]
  },
  {
   "cell_type": "code",
   "execution_count": null,
   "metadata": {
    "id": "b2RPS_QLVCkD"
   },
   "outputs": [],
   "source": []
  }
 ],
 "metadata": {
  "colab": {
   "authorship_tag": "ABX9TyMvyk6zqq+P8ozXZx2sRezj",
   "include_colab_link": true,
   "name": "01_ground-truth-from-metadata.ipynb",
   "provenance": []
  },
  "kernelspec": {
   "display_name": "Python 3 (ipykernel)",
   "language": "python",
   "name": "python3"
  },
  "language_info": {
   "codemirror_mode": {
    "name": "ipython",
    "version": 3
   },
   "file_extension": ".py",
   "mimetype": "text/x-python",
   "name": "python",
   "nbconvert_exporter": "python",
   "pygments_lexer": "ipython3",
   "version": "3.8.12"
  }
 },
 "nbformat": 4,
 "nbformat_minor": 1
}
