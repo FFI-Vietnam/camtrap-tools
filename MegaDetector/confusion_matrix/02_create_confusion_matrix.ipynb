{
  "nbformat": 4,
  "nbformat_minor": 0,
  "metadata": {
    "colab": {
      "name": "confusion_matrix.ipynb",
      "provenance": [],
      "collapsed_sections": [],
      "authorship_tag": "ABX9TyNDLQNF/6UWssxqmMu0EfSw",
      "include_colab_link": true
    },
    "kernelspec": {
      "name": "python3",
      "display_name": "Python 3"
    },
    "language_info": {
      "name": "python"
    }
  },
  "cells": [
    {
      "cell_type": "markdown",
      "metadata": {
        "id": "view-in-github",
        "colab_type": "text"
      },
      "source": [
        "<a href=\"https://colab.research.google.com/github/FFI-Vietnam/camtrap-tools/blob/main/MegaDetector/confusion_matrix/02_create_confusion_matrix.ipynb\" target=\"_parent\"><img src=\"https://colab.research.google.com/assets/colab-badge.svg\" alt=\"Open In Colab\"/></a>"
      ]
    },
    {
      "cell_type": "code",
      "metadata": {
        "id": "Qbam3WDgMkNK"
      },
      "source": [
        "import pandas as pd\n",
        "import matplotlib.pyplot as plt\n",
        "import numpy as np\n",
        "import json\n",
        "import requests\n",
        "import os"
      ],
      "execution_count": 108,
      "outputs": []
    },
    {
      "cell_type": "code",
      "metadata": {
        "colab": {
          "base_uri": "https://localhost:8080/"
        },
        "id": "TDpcWNwLAesY",
        "outputId": "857ef7b4-11f1-43a0-a4fe-b298a8b73d67"
      },
      "source": [
        "from google.colab import drive\n",
        "drive.mount('/content/drive')"
      ],
      "execution_count": 97,
      "outputs": [
        {
          "output_type": "stream",
          "name": "stdout",
          "text": [
            "Drive already mounted at /content/drive; to attempt to forcibly remount, call drive.mount(\"/content/drive\", force_remount=True).\n"
          ]
        }
      ]
    },
    {
      "cell_type": "code",
      "metadata": {
        "colab": {
          "base_uri": "https://localhost:8080/",
          "height": 204
        },
        "id": "YYV1JDHzZS3M",
        "outputId": "3455479f-2070-436f-b0bb-2948544d756d"
      },
      "source": [
        "# read ground truth table\n",
        "root = '/content/drive/'\n",
        "ground_truth_folder = 'My Drive/FFI/MegaDetector Test/ground_truths'\n",
        "ground_truth_name = 'ground-truth-table_Kon-Plong.csv'\n",
        "ground_truth_path = os.path.join(root, ground_truth_folder, ground_truth_name)\n",
        "\n",
        "ground_truth_table = pd.read_csv(ground_truth_path)\n",
        "ground_truth_table.sample(5)"
      ],
      "execution_count": 148,
      "outputs": [
        {
          "output_type": "execute_result",
          "data": {
            "text/html": [
              "<div>\n",
              "<style scoped>\n",
              "    .dataframe tbody tr th:only-of-type {\n",
              "        vertical-align: middle;\n",
              "    }\n",
              "\n",
              "    .dataframe tbody tr th {\n",
              "        vertical-align: top;\n",
              "    }\n",
              "\n",
              "    .dataframe thead th {\n",
              "        text-align: right;\n",
              "    }\n",
              "</style>\n",
              "<table border=\"1\" class=\"dataframe\">\n",
              "  <thead>\n",
              "    <tr style=\"text-align: right;\">\n",
              "      <th></th>\n",
              "      <th>FileName</th>\n",
              "      <th>CatalogSets</th>\n",
              "      <th>species_common_name</th>\n",
              "    </tr>\n",
              "  </thead>\n",
              "  <tbody>\n",
              "    <tr>\n",
              "      <th>60028</th>\n",
              "      <td>kpc314__ct68908__2019-10-14__03-45-10(1)__Ferr...</td>\n",
              "      <td>Species|Ferret-badger (unknown), Observer|An N...</td>\n",
              "      <td>Ferret-badger</td>\n",
              "    </tr>\n",
              "    <tr>\n",
              "      <th>67894</th>\n",
              "      <td>336__69025__2019-11-20__21-10-30(2).JPG</td>\n",
              "      <td>Observer|Tam</td>\n",
              "      <td>NaN</td>\n",
              "    </tr>\n",
              "    <tr>\n",
              "      <th>36016</th>\n",
              "      <td>253__67027__2019-05-04__20-52-13(1).JPG</td>\n",
              "      <td>NaN</td>\n",
              "      <td>NaN</td>\n",
              "    </tr>\n",
              "    <tr>\n",
              "      <th>68284</th>\n",
              "      <td>348__69010__2019-06-28__12-23-34(1).JPG</td>\n",
              "      <td>NaN</td>\n",
              "      <td>NaN</td>\n",
              "    </tr>\n",
              "    <tr>\n",
              "      <th>54310</th>\n",
              "      <td>kpc296__ct67011__2019-11-16__18-31-51(1)__Blan...</td>\n",
              "      <td>Observer|An Nguyen</td>\n",
              "      <td>NaN</td>\n",
              "    </tr>\n",
              "  </tbody>\n",
              "</table>\n",
              "</div>"
            ],
            "text/plain": [
              "                                                FileName  ... species_common_name\n",
              "60028  kpc314__ct68908__2019-10-14__03-45-10(1)__Ferr...  ...       Ferret-badger\n",
              "67894            336__69025__2019-11-20__21-10-30(2).JPG  ...                 NaN\n",
              "36016            253__67027__2019-05-04__20-52-13(1).JPG  ...                 NaN\n",
              "68284            348__69010__2019-06-28__12-23-34(1).JPG  ...                 NaN\n",
              "54310  kpc296__ct67011__2019-11-16__18-31-51(1)__Blan...  ...                 NaN\n",
              "\n",
              "[5 rows x 3 columns]"
            ]
          },
          "metadata": {},
          "execution_count": 148
        }
      ]
    },
    {
      "cell_type": "code",
      "metadata": {
        "id": "jltFefDXZhGM",
        "outputId": "7c5f38c0-abbb-4dba-dd02-96cc1d719091",
        "colab": {
          "base_uri": "https://localhost:8080/"
        }
      },
      "source": [
        "# read MegaDetector result\n",
        "\n",
        "result_folder = 'My Drive/FFI/MegaDetector Test/'\n",
        "result_name = 'MegaDetector_result_2021-08-27.json'\n",
        "result_path = os.path.join(root, result_folder, result_name)\n",
        "\n",
        "with open(result_path) as f:\n",
        "  mega_result = json.load(f)\n",
        "\n",
        "# print sample result\n",
        "for i in range(5):\n",
        "  print(mega_result['images'][i])"
      ],
      "execution_count": 149,
      "outputs": [
        {
          "output_type": "stream",
          "name": "stdout",
          "text": [
            "{'file': '/content/drive/My Drive/Camera Trap Data/Kon Plong/2019-2020 Survey/Processed images/Final/100/67096/100__67096__2019-04-27__12-50-24(2).JPG', 'max_detection_conf': 0.922, 'detections': [{'category': '1', 'conf': 0.922, 'bbox': [0.5833, 0.9097, 0.4083, 0.09005]}]}\n",
            "{'file': '/content/drive/My Drive/Camera Trap Data/Kon Plong/2019-2020 Survey/Processed images/Final/100/67096/100__67096__2019-04-24__09-55-44(1).JPG', 'max_detection_conf': 0.681, 'detections': [{'category': '1', 'conf': 0.681, 'bbox': [0.5914, 0.9117, 0.3952, 0.08826]}, {'category': '1', 'conf': 0.126, 'bbox': [0.7356, 0.917, 0.2506, 0.08295]}]}\n",
            "{'file': '/content/drive/My Drive/Camera Trap Data/Kon Plong/2019-2020 Survey/Processed images/Final/100/67096/100__67096__2019-04-22__15-14-47(2).JPG', 'max_detection_conf': 0.999, 'detections': [{'category': '2', 'conf': 0.999, 'bbox': [0.01608, 0.04712, 0.7686, 0.9528]}, {'category': '2', 'conf': 0.288, 'bbox': [0.004918, 0.3709, 0.3315, 0.6175]}, {'category': '2', 'conf': 0.281, 'bbox': [0, 0.4121, 0.8215, 0.5878]}, {'category': '2', 'conf': 0.108, 'bbox': [0.008711, 0.0179, 0.2201, 0.3991]}]}\n",
            "{'file': '/content/drive/My Drive/Camera Trap Data/Kon Plong/2019-2020 Survey/Processed images/Final/100/67096/100__67096__2019-04-22__15-12-55(2).JPG', 'max_detection_conf': 0.998, 'detections': [{'category': '2', 'conf': 0.998, 'bbox': [0.6096, 0.1715, 0.1913, 0.1187]}]}\n",
            "{'file': '/content/drive/My Drive/Camera Trap Data/Kon Plong/2019-2020 Survey/Processed images/Final/100/67096/100__67096__2019-04-24__09-55-46(2).JPG', 'max_detection_conf': 0.235, 'detections': [{'category': '1', 'conf': 0.235, 'bbox': [0.5818, 0.9124, 0.4117, 0.08757]}]}\n"
          ]
        }
      ]
    },
    {
      "cell_type": "code",
      "metadata": {
        "id": "kEbMyKz-zjYH",
        "outputId": "d869bc09-42ce-4e0f-8703-595620804386",
        "colab": {
          "base_uri": "https://localhost:8080/",
          "height": 204
        }
      },
      "source": [
        "# read taxon_match_table\n",
        "root = '/content/drive/'\n",
        "taxon_match_folder = 'My Drive/FFI/MegaDetector Test/'\n",
        "taxon_match_name = 'taxon_match_table.csv'\n",
        "taxon_match_path = os.path.join(root, taxon_match_folder, taxon_match_name)\n",
        "\n",
        "taxon_match_table = pd.read_csv(taxon_match_path)\n",
        "taxon_match_table.sample(5)"
      ],
      "execution_count": 150,
      "outputs": [
        {
          "output_type": "execute_result",
          "data": {
            "text/html": [
              "<div>\n",
              "<style scoped>\n",
              "    .dataframe tbody tr th:only-of-type {\n",
              "        vertical-align: middle;\n",
              "    }\n",
              "\n",
              "    .dataframe tbody tr th {\n",
              "        vertical-align: top;\n",
              "    }\n",
              "\n",
              "    .dataframe thead th {\n",
              "        text-align: right;\n",
              "    }\n",
              "</style>\n",
              "<table border=\"1\" class=\"dataframe\">\n",
              "  <thead>\n",
              "    <tr style=\"text-align: right;\">\n",
              "      <th></th>\n",
              "      <th>id</th>\n",
              "      <th>class</th>\n",
              "      <th>order</th>\n",
              "      <th>family</th>\n",
              "      <th>genus</th>\n",
              "      <th>species</th>\n",
              "      <th>authority</th>\n",
              "      <th>commonNameEnglish</th>\n",
              "      <th>taxonomyType</th>\n",
              "      <th>uniqueIdentifier</th>\n",
              "      <th>FFI_species_name</th>\n",
              "    </tr>\n",
              "  </thead>\n",
              "  <tbody>\n",
              "    <tr>\n",
              "      <th>20</th>\n",
              "      <td>2021559</td>\n",
              "      <td>Insecta</td>\n",
              "      <td>Lepidoptera</td>\n",
              "      <td>NaN</td>\n",
              "      <td>NaN</td>\n",
              "      <td>NaN</td>\n",
              "      <td>NaN</td>\n",
              "      <td>Butterflies and Moths</td>\n",
              "      <td>biological</td>\n",
              "      <td>4a7126ec-2b0b-426d-bafd-356219eb487a</td>\n",
              "      <td>Moth</td>\n",
              "    </tr>\n",
              "    <tr>\n",
              "      <th>46</th>\n",
              "      <td>2015156</td>\n",
              "      <td>Aves</td>\n",
              "      <td>Passeriformes</td>\n",
              "      <td>Muscicapidae</td>\n",
              "      <td>Kittacincla</td>\n",
              "      <td>malabarica</td>\n",
              "      <td>Scopoli, 1788</td>\n",
              "      <td>White-rumped Shama</td>\n",
              "      <td>biological</td>\n",
              "      <td>aa8579dc-5b25-4347-b1ac-31668aede87b</td>\n",
              "      <td>White-rumped Shama</td>\n",
              "    </tr>\n",
              "    <tr>\n",
              "      <th>125</th>\n",
              "      <td>2008859</td>\n",
              "      <td>Aves</td>\n",
              "      <td>Accipitriformes</td>\n",
              "      <td>Accipitridae</td>\n",
              "      <td>Nisaetus</td>\n",
              "      <td>nipalensis</td>\n",
              "      <td>Hodgson, 1836</td>\n",
              "      <td>Mountain Hawk-eagle</td>\n",
              "      <td>biological</td>\n",
              "      <td>3be3f820-1462-4a04-ae0d-bce98d6cf08b</td>\n",
              "      <td>Mountain Hawk-eagle</td>\n",
              "    </tr>\n",
              "    <tr>\n",
              "      <th>58</th>\n",
              "      <td>2003056</td>\n",
              "      <td>Mammalia</td>\n",
              "      <td>Cetartiodactyla</td>\n",
              "      <td>Cervidae</td>\n",
              "      <td>Muntiacus</td>\n",
              "      <td>vaginalis</td>\n",
              "      <td>Boddaert, 1785</td>\n",
              "      <td>Northern Red Muntjac</td>\n",
              "      <td>biological</td>\n",
              "      <td>9e90f0ba-0009-490b-b975-55829245a28e</td>\n",
              "      <td>Northern Red Muntjac</td>\n",
              "    </tr>\n",
              "    <tr>\n",
              "      <th>107</th>\n",
              "      <td>2015309</td>\n",
              "      <td>Aves</td>\n",
              "      <td>Passeriformes</td>\n",
              "      <td>Muscicapidae</td>\n",
              "      <td>Brachypteryx</td>\n",
              "      <td>leucophris</td>\n",
              "      <td>Temminck, 1827</td>\n",
              "      <td>Lesser Shortwing</td>\n",
              "      <td>biological</td>\n",
              "      <td>a9e3b266-50dc-4759-80ca-8c7c972ee4f4</td>\n",
              "      <td>Lesser Shortwing</td>\n",
              "    </tr>\n",
              "  </tbody>\n",
              "</table>\n",
              "</div>"
            ],
            "text/plain": [
              "          id  ...      FFI_species_name\n",
              "20   2021559  ...                  Moth\n",
              "46   2015156  ...    White-rumped Shama\n",
              "125  2008859  ...   Mountain Hawk-eagle\n",
              "58   2003056  ...  Northern Red Muntjac\n",
              "107  2015309  ...      Lesser Shortwing\n",
              "\n",
              "[5 rows x 11 columns]"
            ]
          },
          "metadata": {},
          "execution_count": 150
        }
      ]
    },
    {
      "cell_type": "code",
      "metadata": {
        "id": "lS7WGV3NdbT4"
      },
      "source": [
        "def list_labels(mega_result, ground_truth_table, THRESHOLD):\n",
        "  \"\"\"\n",
        "  list actual labels and prediction labels\n",
        "  \"\"\"\n",
        "\n",
        "  def has_object(detections, threshold, category_id):\n",
        "    for i in range(len(detections)):\n",
        "      if detections[i]['conf'] > threshold and detections[i]['category'] == category_id:\n",
        "        return True\n",
        "    return False\n",
        "\n",
        "  print(len(mega_result['images']), \"images\")\n",
        "  print('Generating actual and prediction lists...')\n",
        "\n",
        "  # get list of files\n",
        "  files = []\n",
        "  for i in range(len(mega_result['images'])):\n",
        "    files.append(mega_result['images'][i]['file'].split('/')[-1])\n",
        "\n",
        "  category = {\n",
        "      '1': 'Animal',\n",
        "      '2': 'Human',\n",
        "      '3': 'Vehicle'\n",
        "  }\n",
        "\n",
        "  y_actu = []\n",
        "  y_pred = []\n",
        "\n",
        "  for i in range(len(mega_result['images'])):\n",
        "    try:\n",
        "      # actual label\n",
        "      actu = ground_truth_table[ground_truth_table['FileName'] == files[i]]['species_common_name'].iat[0]\n",
        "\n",
        "      # prediction label\n",
        "      # if the image has any animal\n",
        "      if has_object(mega_result['images'][i]['detections'], THRESHOLD, '1'):\n",
        "        if actu == '':\n",
        "          y_pred.append('Animal')\n",
        "          y_actu.append('Blank')\n",
        "        else:\n",
        "          y_pred.append('Animal')\n",
        "          y_actu.append(actu)\n",
        "\n",
        "      # if the image has any human\n",
        "      if has_object(mega_result['images'][i]['detections'], THRESHOLD, '2'):\n",
        "        y_pred.append('Human')\n",
        "        if actu == '':\n",
        "          y_actu.append('Blank')\n",
        "        else:\n",
        "          y_actu.append(actu)\n",
        "\n",
        "      # if not have any human or animal\n",
        "      if (not has_object(mega_result['images'][i]['detections'], THRESHOLD, '1')) and (not has_object(mega_result['images'][i]['detections'], THRESHOLD, '2')):\n",
        "        y_pred.append('Blank')\n",
        "        if actu == '':\n",
        "          y_actu.append('Blank')\n",
        "        else:\n",
        "          y_actu.append(actu)    \n",
        "    except:\n",
        "      # print('File not found', files[i])\n",
        "      pass\n",
        "  \n",
        "  y_pr = np.array(y_pred)\n",
        "  print('Reduction rate', len(y_pr[y_pr == 'Blank']) / len(y_pr))\n",
        "  return y_actu, y_pred\n"
      ],
      "execution_count": 151,
      "outputs": []
    },
    {
      "cell_type": "code",
      "metadata": {
        "id": "fBcVdsWDSMKY"
      },
      "source": [
        "def create_confusion_matrix(y_actu, y_pred):\n",
        "  print('Generating confusion matrix...')\n",
        "\n",
        "  y_actu = pd.Series(y_actu, name='Actual')\n",
        "  y_pred = pd.Series(y_pred, name='Prediction')\n",
        "  df_confusion = pd.crosstab(y_pred, y_actu, rownames=['Prediction'], colnames=['Actual'], margins=True)\n",
        "\n",
        "  # normalized confusion matrix using:\n",
        "  df_conf_norm = round(df_confusion / df_confusion.sum(axis=1), 2)\n",
        "\n",
        "  # delete nan columns\n",
        "  df_conf_norm.dropna(axis = 1, inplace=True)\n",
        "\n",
        "  # drop unecessary columns\n",
        "  df_conf_norm.drop(columns=['All'], inplace=True)\n",
        "\n",
        "  # collapse columns\n",
        "  confusion_matrix = pd.DataFrame(index = ['Animal', 'Human', 'Blank', 'Total', 'Recall'])\n",
        "  for col in df_confusion.columns:\n",
        "    all = df_confusion[col]['All']\n",
        "    animal = all - df_confusion[col]['Blank'] - df_confusion[col]['Human']\n",
        "    human = df_confusion[col]['Human']\n",
        "    blank = df_confusion[col]['Blank']\n",
        "    total = animal + human + blank\n",
        "    recall = 0\n",
        "    # recall\n",
        "    if col == 'Human':\n",
        "      recall = human / total\n",
        "    elif col == 'Blank':\n",
        "      recall = blank / total\n",
        "    else:\n",
        "      recall = animal / total\n",
        "    confusion_matrix[col] = [str(animal), str(human), str(blank), str(total), str(round(recall,2))]\n",
        "\n",
        "  return confusion_matrix"
      ],
      "execution_count": 152,
      "outputs": []
    },
    {
      "cell_type": "code",
      "metadata": {
        "id": "NL0NDf78yDl6",
        "outputId": "b2ef72ea-1635-4381-a4af-634833f4ba33",
        "colab": {
          "base_uri": "https://localhost:8080/",
          "height": 35
        }
      },
      "source": [
        "def get_taxonomical_class(species_common_name, taxon_match_table=taxon_match_table):\n",
        "  \"\"\"\n",
        "  get taxonomical class level of a species\n",
        "  \"\"\"\n",
        "  row = taxon_match_table[taxon_match_table['FFI_species_name'] == species_common_name]\n",
        "  try:\n",
        "    taxon_class = row['class'].iat[0]\n",
        "  except:\n",
        "    print('     Can not find taxonomy info for', species_common_name)\n",
        "  return taxon_class\n",
        "\n",
        "# test\n",
        "get_taxonomical_class('Bird')"
      ],
      "execution_count": 153,
      "outputs": [
        {
          "output_type": "execute_result",
          "data": {
            "application/vnd.google.colaboratory.intrinsic+json": {
              "type": "string"
            },
            "text/plain": [
              "'Aves'"
            ]
          },
          "metadata": {},
          "execution_count": 153
        }
      ]
    },
    {
      "cell_type": "code",
      "metadata": {
        "id": "kZITHiO3yNNc",
        "outputId": "5138bae7-26d8-4721-84f1-2f65d51419be",
        "colab": {
          "base_uri": "https://localhost:8080/"
        }
      },
      "source": [
        "def get_scientific_name(species_common_name, taxon_match_table=taxon_match_table):\n",
        "  \"\"\"\n",
        "  get genus and species name of a species\n",
        "  \"\"\"\n",
        "  row = taxon_match_table[taxon_match_table['FFI_species_name'] == species_common_name]\n",
        "  try:\n",
        "    genus, species = row['genus'].iat[0], row['species'].iat[0]\n",
        "  except:\n",
        "    print('     Can not find taxonomy info for', species_common_name)\n",
        "  return genus, species\n",
        "\n",
        "# test\n",
        "get_scientific_name(\"Owston's Civet\")"
      ],
      "execution_count": 154,
      "outputs": [
        {
          "output_type": "execute_result",
          "data": {
            "text/plain": [
              "('Chrotogale', 'owstoni')"
            ]
          },
          "metadata": {},
          "execution_count": 154
        }
      ]
    },
    {
      "cell_type": "code",
      "metadata": {
        "id": "3RNc8TcPxs9Q",
        "outputId": "313673a7-11cd-427c-eb0a-2dbd54326100",
        "colab": {
          "base_uri": "https://localhost:8080/",
          "height": 35
        }
      },
      "source": [
        "def get_conservation_status(genus, species):\n",
        "  \"\"\"\n",
        "  get consevation status of a species from IUCN red list API\n",
        "  https://apiv3.iucnredlist.org/api/v3/docs#species-history-name\n",
        "  \"\"\"\n",
        "  api_token = \"9bb4facb6d23f48efbf424bb05c0c1ef1cf6f468393bc745d42179ac4aca5fee\"\n",
        "  response = requests.get(f\"https://apiv3.iucnredlist.org/api/v3/species/history/name/{genus}%20{species}?token={api_token}\")\n",
        "  try:\n",
        "    status = response.json()['result'][0]['category']\n",
        "  except:\n",
        "    print('     Can not find conservation status for', genus, species)\n",
        "  return status\n",
        "\n",
        "# test\n",
        "get_conservation_status('Chrotogale', 'owstoni')"
      ],
      "execution_count": 155,
      "outputs": [
        {
          "output_type": "execute_result",
          "data": {
            "application/vnd.google.colaboratory.intrinsic+json": {
              "type": "string"
            },
            "text/plain": [
              "'Endangered'"
            ]
          },
          "metadata": {},
          "execution_count": 155
        }
      ]
    },
    {
      "cell_type": "code",
      "metadata": {
        "id": "KWfJUqw0UKeP"
      },
      "source": [
        "def visualize_recall_bargraph(taxon_class, confusion_matrix, THRESHOLD):\n",
        "  \"\"\"\n",
        "  visualize recall values by bargraph by taxonomical class\n",
        "  \"\"\"\n",
        "\n",
        "  print(f\"Generating visualization plot for {taxon_class}...\")\n",
        "  total = []\n",
        "  recall = []\n",
        "  names = []\n",
        "\n",
        "  image_count = len(mega_result['images'])\n",
        "\n",
        "  data = confusion_matrix\n",
        "\n",
        "  for species in data.columns[:-1]: # not include All \n",
        "    try:\n",
        "      if get_taxonomical_class(species) in taxon_class:\n",
        "        recall.append(data[species][4])\n",
        "        total.append(data[species][3])\n",
        "        names.append((species))\n",
        "    except:\n",
        "      pass\n",
        "\n",
        "  recall_stats = pd.DataFrame({'name':names, 'recall':recall, 'total':total})\n",
        "  recall_stats['recall'] = recall_stats['recall'].astype('float64')\n",
        "  recall_stats['total'] = recall_stats['total'].astype('int')\n",
        "  recall_stats.sort_values('recall', inplace=True, ascending=True)\n",
        "\n",
        "  # creating the bar plot\n",
        "  species_name = recall_stats['name'].to_list()\n",
        "  values = recall_stats['recall'].to_list()\n",
        "  total = recall_stats['total'].to_list()\n",
        "  avg_recall = np.mean(recall_stats['recall'])\n",
        "\n",
        "  colors = []\n",
        "  color_map = {\n",
        "               \"Not Evaluated\": \"lightblue\",\n",
        "               \"Data Deficient\": \"lightyellow\",\n",
        "               \"Least Concern\": \"mediumseagreen\",\n",
        "               \"Near Threatened\": \"olive\",\n",
        "               \"Vulnerable\": \"orange\",\n",
        "               \"Endangered\": \"orangered\",\n",
        "               \"Critically Endangered\": \"maroon\",\n",
        "               \"Extinct in the Wild\": \"black\",\n",
        "               \"Extinct\": \"silver\",\n",
        "               \"Unable to find status\": \"violet\"\n",
        "              }\n",
        "  for name in species_name:\n",
        "    try:\n",
        "      genus, species = get_scientific_name(name)\n",
        "      status = get_conservation_status(genus, species)\n",
        "      colors.append(color_map[status])\n",
        "    except:\n",
        "      colors.append(color_map[\"Unable to find status\"])\n",
        "\n",
        "  fig = plt.figure(figsize=(10, 20))\n",
        "    \n",
        "  plt.barh(species_name, values, color=colors)\n",
        "  for i, v in enumerate(values):\n",
        "      plt.text(v, i, str(round(v,2)), color='blue', fontweight='bold')\n",
        "      plt.text(v+0.07, i, f'{str(total[i])} images', color='blue', fontweight='bold')\n",
        "  # for i, v in enumerate(total):\n",
        "\n",
        "  plt.xlabel(\"Values\")\n",
        "  plt.ylabel(\"Species name\")\n",
        "  labels = list(color_map.keys())\n",
        "  handles = [plt.Rectangle((0,0),1,1, color=color_map[label]) for label in labels]\n",
        "  plt.legend(handles, labels)\n",
        "  plt.title(f\"Evaluate over {image_count} images \\nclass: {taxon_class} \\nthreshold:  {THRESHOLD} \\naverage_recall_value: {round(avg_recall,2)}\")\n",
        "  # plt.savefig(f\"123.png\")\n",
        "  plt.show()\n"
      ],
      "execution_count": 156,
      "outputs": []
    },
    {
      "cell_type": "code",
      "metadata": {
        "id": "dN0kAgH39mRr"
      },
      "source": [
        "def recall_evaluation(THRESHOLD, taxon_class):\n",
        "  y_actu, y_pred = list_labels(mega_result, ground_truth_table, THRESHOLD)\n",
        "  confusion_matrix = create_confusion_matrix(y_actu, y_pred)\n",
        "  visualize_recall_bargraph(taxon_class, confusion_matrix, THRESHOLD)"
      ],
      "execution_count": 157,
      "outputs": []
    },
    {
      "cell_type": "code",
      "metadata": {
        "id": "78SjJSH87xc4",
        "outputId": "ac82d23c-3075-4923-f8c2-0ff84e5c0d62",
        "colab": {
          "base_uri": "https://localhost:8080/"
        }
      },
      "source": [
        "recall_evaluation(0.5, ['Mammalia', 'Insecta', 'Reptilia'])"
      ],
      "execution_count": null,
      "outputs": [
        {
          "output_type": "stream",
          "name": "stdout",
          "text": [
            "110166 images\n",
            "Generating actual and prediction lists...\n"
          ]
        }
      ]
    },
    {
      "cell_type": "code",
      "metadata": {
        "id": "JQPCqmlO6H4-"
      },
      "source": [
        "recall_evaluation(0.5, ['Aves'])"
      ],
      "execution_count": null,
      "outputs": []
    },
    {
      "cell_type": "code",
      "metadata": {
        "id": "w4dKYNE9g-M5"
      },
      "source": [
        ""
      ],
      "execution_count": null,
      "outputs": []
    }
  ]
}